{
 "cells": [
  {
   "cell_type": "code",
   "execution_count": 80,
   "id": "6440584a",
   "metadata": {},
   "outputs": [],
   "source": [
    "import numpy as np\n",
    "import pandas as pd\n",
    "\n",
    "import seaborn as sns\n",
    "import matplotlib.pyplot as plt\n",
    "\n",
    "from sklearn.preprocessing import RobustScaler\n",
    "\n",
    "from sklearn.model_selection import train_test_split\n",
    "\n",
    "from sklearn.ensemble import GradientBoostingRegressor\n",
    "from sklearn.ensemble import AdaBoostRegressor\n",
    "from sklearn.ensemble import BaggingRegressor\n",
    "\n",
    "from sklearn.metrics import mean_squared_error"
   ]
  },
  {
   "cell_type": "markdown",
   "id": "9e0db2a2",
   "metadata": {},
   "source": [
    "# Description"
   ]
  },
  {
   "cell_type": "markdown",
   "id": "0897a726",
   "metadata": {},
   "source": [
    "A continuación, voy a aplicar el modelo RandomForest, SIN escalar. \n",
    "Sin embargo, estas serán las features \n",
    "- Calcular el tamaño como la multiplicación de las columnas x, y, z.\n",
    "- Eliminamos posteriormente estas columnas x, y, z.\n",
    "- Agrupación de la columna de colores donde J es el peor y D es el mejor. \n",
    "- La columna de cut haremos un label enconding donde 0 sea Fair y 4 sea Ideal. \n",
    "- Mantengo la clasificación de city por cotinent. \n",
    "- Eliminamos la columna de depth.\n",
    "- Mantengo la clasificación de clarity en 4 columnas. \n",
    "\n",
    "\n"
   ]
  },
  {
   "cell_type": "code",
   "execution_count": 26,
   "id": "776be48e",
   "metadata": {},
   "outputs": [],
   "source": [
    "diamonds = pd.read_csv('./data/diamonds.csv')"
   ]
  },
  {
   "cell_type": "code",
   "execution_count": 27,
   "id": "52c83f6a",
   "metadata": {},
   "outputs": [
    {
     "data": {
      "text/html": [
       "<div>\n",
       "<style scoped>\n",
       "    .dataframe tbody tr th:only-of-type {\n",
       "        vertical-align: middle;\n",
       "    }\n",
       "\n",
       "    .dataframe tbody tr th {\n",
       "        vertical-align: top;\n",
       "    }\n",
       "\n",
       "    .dataframe thead th {\n",
       "        text-align: right;\n",
       "    }\n",
       "</style>\n",
       "<table border=\"1\" class=\"dataframe\">\n",
       "  <thead>\n",
       "    <tr style=\"text-align: right;\">\n",
       "      <th></th>\n",
       "      <th>price</th>\n",
       "      <th>carat</th>\n",
       "      <th>city</th>\n",
       "      <th>depth</th>\n",
       "      <th>table</th>\n",
       "      <th>x</th>\n",
       "      <th>y</th>\n",
       "      <th>z</th>\n",
       "      <th>cut</th>\n",
       "      <th>color</th>\n",
       "      <th>clarity</th>\n",
       "    </tr>\n",
       "  </thead>\n",
       "  <tbody>\n",
       "    <tr>\n",
       "      <th>0</th>\n",
       "      <td>4268</td>\n",
       "      <td>1.21</td>\n",
       "      <td>Dubai</td>\n",
       "      <td>62.4</td>\n",
       "      <td>58.0</td>\n",
       "      <td>6.83</td>\n",
       "      <td>6.79</td>\n",
       "      <td>4.25</td>\n",
       "      <td>Premium</td>\n",
       "      <td>J</td>\n",
       "      <td>VS2</td>\n",
       "    </tr>\n",
       "    <tr>\n",
       "      <th>1</th>\n",
       "      <td>505</td>\n",
       "      <td>0.32</td>\n",
       "      <td>Kimberly</td>\n",
       "      <td>63.0</td>\n",
       "      <td>57.0</td>\n",
       "      <td>4.35</td>\n",
       "      <td>4.38</td>\n",
       "      <td>2.75</td>\n",
       "      <td>Very Good</td>\n",
       "      <td>H</td>\n",
       "      <td>VS2</td>\n",
       "    </tr>\n",
       "    <tr>\n",
       "      <th>2</th>\n",
       "      <td>2686</td>\n",
       "      <td>0.71</td>\n",
       "      <td>Las Vegas</td>\n",
       "      <td>65.5</td>\n",
       "      <td>55.0</td>\n",
       "      <td>5.62</td>\n",
       "      <td>5.53</td>\n",
       "      <td>3.65</td>\n",
       "      <td>Fair</td>\n",
       "      <td>G</td>\n",
       "      <td>VS1</td>\n",
       "    </tr>\n",
       "    <tr>\n",
       "      <th>3</th>\n",
       "      <td>738</td>\n",
       "      <td>0.41</td>\n",
       "      <td>Kimberly</td>\n",
       "      <td>63.8</td>\n",
       "      <td>56.0</td>\n",
       "      <td>4.68</td>\n",
       "      <td>4.72</td>\n",
       "      <td>3.00</td>\n",
       "      <td>Good</td>\n",
       "      <td>D</td>\n",
       "      <td>SI1</td>\n",
       "    </tr>\n",
       "    <tr>\n",
       "      <th>4</th>\n",
       "      <td>4882</td>\n",
       "      <td>1.02</td>\n",
       "      <td>Dubai</td>\n",
       "      <td>60.5</td>\n",
       "      <td>59.0</td>\n",
       "      <td>6.55</td>\n",
       "      <td>6.51</td>\n",
       "      <td>3.95</td>\n",
       "      <td>Ideal</td>\n",
       "      <td>G</td>\n",
       "      <td>SI1</td>\n",
       "    </tr>\n",
       "  </tbody>\n",
       "</table>\n",
       "</div>"
      ],
      "text/plain": [
       "   price  carat       city  depth  table     x     y     z        cut color  \\\n",
       "0   4268   1.21      Dubai   62.4   58.0  6.83  6.79  4.25    Premium     J   \n",
       "1    505   0.32   Kimberly   63.0   57.0  4.35  4.38  2.75  Very Good     H   \n",
       "2   2686   0.71  Las Vegas   65.5   55.0  5.62  5.53  3.65       Fair     G   \n",
       "3    738   0.41   Kimberly   63.8   56.0  4.68  4.72  3.00       Good     D   \n",
       "4   4882   1.02      Dubai   60.5   59.0  6.55  6.51  3.95      Ideal     G   \n",
       "\n",
       "  clarity  \n",
       "0     VS2  \n",
       "1     VS2  \n",
       "2     VS1  \n",
       "3     SI1  \n",
       "4     SI1  "
      ]
     },
     "execution_count": 27,
     "metadata": {},
     "output_type": "execute_result"
    }
   ],
   "source": [
    "diamonds.head()"
   ]
  },
  {
   "cell_type": "code",
   "execution_count": 28,
   "id": "ab349838",
   "metadata": {},
   "outputs": [],
   "source": [
    "diamonds[\"size\"] = diamonds[\"x\"] * diamonds[\"y\"] * diamonds[\"z\"]"
   ]
  },
  {
   "cell_type": "code",
   "execution_count": 29,
   "id": "7e764808",
   "metadata": {},
   "outputs": [],
   "source": [
    "diamonds = diamonds.drop('x', axis=1).drop('y', axis=1).drop('z', axis=1)"
   ]
  },
  {
   "cell_type": "code",
   "execution_count": 30,
   "id": "de5227b6",
   "metadata": {},
   "outputs": [],
   "source": [
    "diamonds['cut'] = diamonds['cut'].map({'Fair': 1, \n",
    "                                       'Good': 2, \n",
    "                                       'Very Good': 3, \n",
    "                                       'Premium': 4, \n",
    "                                       'Ideal': 5})"
   ]
  },
  {
   "cell_type": "code",
   "execution_count": 31,
   "id": "53afe1b7",
   "metadata": {},
   "outputs": [],
   "source": [
    "diamonds['color'] = diamonds['color'].map({'J': 1,\n",
    "                                          'I': 2,\n",
    "                                          'H': 3, \n",
    "                                          'G': 4,\n",
    "                                          'F': 5, \n",
    "                                          'E': 6,\n",
    "                                          'D': 7})\n"
   ]
  },
  {
   "cell_type": "code",
   "execution_count": 32,
   "id": "ada3d83f",
   "metadata": {},
   "outputs": [],
   "source": [
    "diamonds['continent'] = diamonds['city'].map({'Dubai': 'Asia',\n",
    "                                                'Kimberly': 'Africa',\n",
    "                                                'Las Vegas': 'America',\n",
    "                                                'Tel Aviv': 'Asia',\n",
    "                                                'Amsterdam': 'Europe',\n",
    "                                                'Zurich': 'Europe',\n",
    "                                                'Antwerp': 'Europe',\n",
    "                                                'Madrid': 'Europe',\n",
    "                                                'Paris': 'Europe',\n",
    "                                                'Surat': 'Asia',\n",
    "                                                'Luxembourg': 'Europe',\n",
    "                                                'London': 'Europe',\n",
    "                                                'New York City': 'America'})"
   ]
  },
  {
   "cell_type": "code",
   "execution_count": 33,
   "id": "6204db29",
   "metadata": {},
   "outputs": [],
   "source": [
    "diamonds = diamonds.drop('city', axis=1)"
   ]
  },
  {
   "cell_type": "code",
   "execution_count": 34,
   "id": "a4bfcdfd",
   "metadata": {},
   "outputs": [],
   "source": [
    "diamonds['clarity'] = diamonds['clarity'].replace(['IF'], ['VVSI']).replace(['VVS1'], ['VVSI']).replace(['VVS2'], ['VVSI'])\n",
    "# VVSI = Very Very Sligthly Included, incluye IF (Internally Flawless, VVS1 y VVS2 (Very, Very Slightly Included 1 y 2))"
   ]
  },
  {
   "cell_type": "code",
   "execution_count": 35,
   "id": "016098b7",
   "metadata": {},
   "outputs": [],
   "source": [
    "diamonds['clarity'] = diamonds['clarity'].replace(['VS1'], ['VSI']).replace(['VS2'], ['VSI'])\n",
    "# VVS = Very Slightly Included, incluye Very Slightly Included 1 y 2 "
   ]
  },
  {
   "cell_type": "code",
   "execution_count": 36,
   "id": "cbcb1b0b",
   "metadata": {},
   "outputs": [],
   "source": [
    "diamonds['clarity'] = diamonds['clarity'].replace(['SI1'], ['SI']).replace(['SI2'], ['SI'])\n",
    "# SI = Slightly Included, incluye Slightly Included 1 y 2 "
   ]
  },
  {
   "cell_type": "code",
   "execution_count": 37,
   "id": "7d7d595c",
   "metadata": {},
   "outputs": [
    {
     "name": "stdout",
     "output_type": "stream",
     "text": [
      "<class 'pandas.core.frame.DataFrame'>\n",
      "RangeIndex: 40455 entries, 0 to 40454\n",
      "Data columns (total 9 columns):\n",
      " #   Column     Non-Null Count  Dtype  \n",
      "---  ------     --------------  -----  \n",
      " 0   price      40455 non-null  int64  \n",
      " 1   carat      40455 non-null  float64\n",
      " 2   depth      40455 non-null  float64\n",
      " 3   table      40455 non-null  float64\n",
      " 4   cut        40455 non-null  int64  \n",
      " 5   color      40455 non-null  int64  \n",
      " 6   clarity    40455 non-null  object \n",
      " 7   size       40455 non-null  float64\n",
      " 8   continent  40455 non-null  object \n",
      "dtypes: float64(4), int64(3), object(2)\n",
      "memory usage: 2.8+ MB\n"
     ]
    }
   ],
   "source": [
    "diamonds.info()"
   ]
  },
  {
   "cell_type": "markdown",
   "id": "0aa8c02a",
   "metadata": {},
   "source": [
    "## One Hot Encoding"
   ]
  },
  {
   "cell_type": "code",
   "execution_count": 38,
   "id": "b37c946b",
   "metadata": {},
   "outputs": [],
   "source": [
    "diamonds_dummy = pd.get_dummies(diamonds, drop_first=True, dtype=float)"
   ]
  },
  {
   "cell_type": "code",
   "execution_count": 39,
   "id": "f0e02a5e",
   "metadata": {},
   "outputs": [
    {
     "name": "stdout",
     "output_type": "stream",
     "text": [
      "<class 'pandas.core.frame.DataFrame'>\n",
      "RangeIndex: 40455 entries, 0 to 40454\n",
      "Data columns (total 13 columns):\n",
      " #   Column             Non-Null Count  Dtype  \n",
      "---  ------             --------------  -----  \n",
      " 0   price              40455 non-null  int64  \n",
      " 1   carat              40455 non-null  float64\n",
      " 2   depth              40455 non-null  float64\n",
      " 3   table              40455 non-null  float64\n",
      " 4   cut                40455 non-null  int64  \n",
      " 5   color              40455 non-null  int64  \n",
      " 6   size               40455 non-null  float64\n",
      " 7   clarity_SI         40455 non-null  float64\n",
      " 8   clarity_VSI        40455 non-null  float64\n",
      " 9   clarity_VVSI       40455 non-null  float64\n",
      " 10  continent_America  40455 non-null  float64\n",
      " 11  continent_Asia     40455 non-null  float64\n",
      " 12  continent_Europe   40455 non-null  float64\n",
      "dtypes: float64(10), int64(3)\n",
      "memory usage: 4.0 MB\n"
     ]
    }
   ],
   "source": [
    "diamonds_dummy.info()"
   ]
  },
  {
   "cell_type": "code",
   "execution_count": 40,
   "id": "02e33a87",
   "metadata": {},
   "outputs": [
    {
     "data": {
      "text/html": [
       "<div>\n",
       "<style scoped>\n",
       "    .dataframe tbody tr th:only-of-type {\n",
       "        vertical-align: middle;\n",
       "    }\n",
       "\n",
       "    .dataframe tbody tr th {\n",
       "        vertical-align: top;\n",
       "    }\n",
       "\n",
       "    .dataframe thead th {\n",
       "        text-align: right;\n",
       "    }\n",
       "</style>\n",
       "<table border=\"1\" class=\"dataframe\">\n",
       "  <thead>\n",
       "    <tr style=\"text-align: right;\">\n",
       "      <th></th>\n",
       "      <th>price</th>\n",
       "      <th>carat</th>\n",
       "      <th>depth</th>\n",
       "      <th>table</th>\n",
       "      <th>cut</th>\n",
       "      <th>color</th>\n",
       "      <th>size</th>\n",
       "      <th>clarity_SI</th>\n",
       "      <th>clarity_VSI</th>\n",
       "      <th>clarity_VVSI</th>\n",
       "      <th>continent_America</th>\n",
       "      <th>continent_Asia</th>\n",
       "      <th>continent_Europe</th>\n",
       "    </tr>\n",
       "  </thead>\n",
       "  <tbody>\n",
       "    <tr>\n",
       "      <th>0</th>\n",
       "      <td>4268</td>\n",
       "      <td>1.21</td>\n",
       "      <td>62.4</td>\n",
       "      <td>58.0</td>\n",
       "      <td>4</td>\n",
       "      <td>1</td>\n",
       "      <td>197.096725</td>\n",
       "      <td>0.0</td>\n",
       "      <td>1.0</td>\n",
       "      <td>0.0</td>\n",
       "      <td>0.0</td>\n",
       "      <td>1.0</td>\n",
       "      <td>0.0</td>\n",
       "    </tr>\n",
       "    <tr>\n",
       "      <th>1</th>\n",
       "      <td>505</td>\n",
       "      <td>0.32</td>\n",
       "      <td>63.0</td>\n",
       "      <td>57.0</td>\n",
       "      <td>3</td>\n",
       "      <td>3</td>\n",
       "      <td>52.395750</td>\n",
       "      <td>0.0</td>\n",
       "      <td>1.0</td>\n",
       "      <td>0.0</td>\n",
       "      <td>0.0</td>\n",
       "      <td>0.0</td>\n",
       "      <td>0.0</td>\n",
       "    </tr>\n",
       "    <tr>\n",
       "      <th>2</th>\n",
       "      <td>2686</td>\n",
       "      <td>0.71</td>\n",
       "      <td>65.5</td>\n",
       "      <td>55.0</td>\n",
       "      <td>1</td>\n",
       "      <td>4</td>\n",
       "      <td>113.436890</td>\n",
       "      <td>0.0</td>\n",
       "      <td>1.0</td>\n",
       "      <td>0.0</td>\n",
       "      <td>1.0</td>\n",
       "      <td>0.0</td>\n",
       "      <td>0.0</td>\n",
       "    </tr>\n",
       "    <tr>\n",
       "      <th>3</th>\n",
       "      <td>738</td>\n",
       "      <td>0.41</td>\n",
       "      <td>63.8</td>\n",
       "      <td>56.0</td>\n",
       "      <td>2</td>\n",
       "      <td>7</td>\n",
       "      <td>66.268800</td>\n",
       "      <td>1.0</td>\n",
       "      <td>0.0</td>\n",
       "      <td>0.0</td>\n",
       "      <td>0.0</td>\n",
       "      <td>0.0</td>\n",
       "      <td>0.0</td>\n",
       "    </tr>\n",
       "    <tr>\n",
       "      <th>4</th>\n",
       "      <td>4882</td>\n",
       "      <td>1.02</td>\n",
       "      <td>60.5</td>\n",
       "      <td>59.0</td>\n",
       "      <td>5</td>\n",
       "      <td>4</td>\n",
       "      <td>168.429975</td>\n",
       "      <td>1.0</td>\n",
       "      <td>0.0</td>\n",
       "      <td>0.0</td>\n",
       "      <td>0.0</td>\n",
       "      <td>1.0</td>\n",
       "      <td>0.0</td>\n",
       "    </tr>\n",
       "  </tbody>\n",
       "</table>\n",
       "</div>"
      ],
      "text/plain": [
       "   price  carat  depth  table  cut  color        size  clarity_SI  \\\n",
       "0   4268   1.21   62.4   58.0    4      1  197.096725         0.0   \n",
       "1    505   0.32   63.0   57.0    3      3   52.395750         0.0   \n",
       "2   2686   0.71   65.5   55.0    1      4  113.436890         0.0   \n",
       "3    738   0.41   63.8   56.0    2      7   66.268800         1.0   \n",
       "4   4882   1.02   60.5   59.0    5      4  168.429975         1.0   \n",
       "\n",
       "   clarity_VSI  clarity_VVSI  continent_America  continent_Asia  \\\n",
       "0          1.0           0.0                0.0             1.0   \n",
       "1          1.0           0.0                0.0             0.0   \n",
       "2          1.0           0.0                1.0             0.0   \n",
       "3          0.0           0.0                0.0             0.0   \n",
       "4          0.0           0.0                0.0             1.0   \n",
       "\n",
       "   continent_Europe  \n",
       "0               0.0  \n",
       "1               0.0  \n",
       "2               0.0  \n",
       "3               0.0  \n",
       "4               0.0  "
      ]
     },
     "execution_count": 40,
     "metadata": {},
     "output_type": "execute_result"
    }
   ],
   "source": [
    "diamonds_dummy.head()"
   ]
  },
  {
   "cell_type": "markdown",
   "id": "c9453dad",
   "metadata": {},
   "source": [
    "## ⚠️⚠️ DECISION = SIN ESCALAR"
   ]
  },
  {
   "cell_type": "code",
   "execution_count": 41,
   "id": "a66a613f",
   "metadata": {},
   "outputs": [],
   "source": [
    "X = diamonds_dummy.drop('price', axis=1)\n",
    "y = diamonds_dummy['price']"
   ]
  },
  {
   "cell_type": "code",
   "execution_count": 42,
   "id": "6f1d9ff7",
   "metadata": {},
   "outputs": [],
   "source": [
    "X_train, X_test, y_train, y_test = train_test_split(X, y, test_size=0.2, random_state=42)"
   ]
  },
  {
   "cell_type": "code",
   "execution_count": 58,
   "id": "c2fbd89f",
   "metadata": {},
   "outputs": [],
   "source": [
    "# model = GradientBoostingRegressor(random_state = 42)   # No necesita one hot encoding\n",
    "# model = AdaBoostRegressor(random_state = 42)\n",
    "# model = BaggingRegressor(random_state = 42)"
   ]
  },
  {
   "cell_type": "code",
   "execution_count": 59,
   "id": "1621e57f",
   "metadata": {},
   "outputs": [
    {
     "ename": "TypeError",
     "evalue": "StackingRegressor.fit() missing 1 required positional argument: 'y'",
     "output_type": "error",
     "traceback": [
      "\u001b[1;31m---------------------------------------------------------------------------\u001b[0m",
      "\u001b[1;31mTypeError\u001b[0m                                 Traceback (most recent call last)",
      "Cell \u001b[1;32mIn[59], line 1\u001b[0m\n\u001b[1;32m----> 1\u001b[0m \u001b[43mmodel\u001b[49m\u001b[38;5;241;43m.\u001b[39;49m\u001b[43mfit\u001b[49m\u001b[43m(\u001b[49m\u001b[43mX_train\u001b[49m\u001b[43m,\u001b[49m\u001b[43m \u001b[49m\u001b[43my_train\u001b[49m\u001b[43m)\u001b[49m\n",
      "\u001b[1;31mTypeError\u001b[0m: StackingRegressor.fit() missing 1 required positional argument: 'y'"
     ]
    }
   ],
   "source": [
    "model.fit(X_train, y_train)"
   ]
  },
  {
   "cell_type": "code",
   "execution_count": 56,
   "id": "10e3da00",
   "metadata": {},
   "outputs": [],
   "source": [
    "# predict_GB = model.predict(X_test)\n",
    "# predict_AB = model.predict(X_test)\n",
    "predict_BR = model.predict(X_test)"
   ]
  },
  {
   "cell_type": "code",
   "execution_count": 57,
   "id": "6d1007d6",
   "metadata": {},
   "outputs": [
    {
     "name": "stdout",
     "output_type": "stream",
     "text": [
      "775.7627338940251\n",
      "1186.9217004101906\n",
      "697.6000872411721\n"
     ]
    },
    {
     "name": "stderr",
     "output_type": "stream",
     "text": [
      "C:\\Users\\tete1\\miniconda3\\envs\\jupyter_env\\lib\\site-packages\\sklearn\\metrics\\_regression.py:483: FutureWarning: 'squared' is deprecated in version 1.4 and will be removed in 1.6. To calculate the root mean squared error, use the function'root_mean_squared_error'.\n",
      "  warnings.warn(\n"
     ]
    }
   ],
   "source": [
    "# RMSE calculation\n",
    "\n",
    "# rmse_GB = mean_squared_error(y_test, predict_GB, squared=False)\n",
    "# rmse_AB = mean_squared_error(y_test, predict_AB, squared=False)\n",
    "rmse_BR = mean_squared_error(y_test, predict_BR, squared=False)\n",
    "print(rmse_GB)\n",
    "print(rmse_AB)\n",
    "print(rmse_BR)"
   ]
  },
  {
   "cell_type": "markdown",
   "id": "96d9ee65",
   "metadata": {},
   "source": [
    "## ⚠️⚠️ DECISION = SOLO LABEL ENCODING"
   ]
  },
  {
   "cell_type": "code",
   "execution_count": 57,
   "id": "067129bd",
   "metadata": {},
   "outputs": [],
   "source": [
    "diamonds2 = pd.read_csv('./data/diamonds.csv')"
   ]
  },
  {
   "cell_type": "code",
   "execution_count": 58,
   "id": "23fd5806",
   "metadata": {},
   "outputs": [],
   "source": [
    "diamonds2[\"size\"] = diamonds2[\"x\"] * diamonds2[\"y\"] * diamonds2[\"z\"]"
   ]
  },
  {
   "cell_type": "code",
   "execution_count": 59,
   "id": "f10c94e6",
   "metadata": {},
   "outputs": [],
   "source": [
    "diamonds2 = diamonds2.drop('x', axis=1).drop('y', axis=1).drop('z', axis=1)"
   ]
  },
  {
   "cell_type": "code",
   "execution_count": 60,
   "id": "9fb26306",
   "metadata": {},
   "outputs": [],
   "source": [
    "diamonds2['cut'] = diamonds2['cut'].map({'Fair': 1, \n",
    "                                       'Good': 2, \n",
    "                                       'Very Good': 3, \n",
    "                                       'Premium': 4, \n",
    "                                       'Ideal': 5})"
   ]
  },
  {
   "cell_type": "code",
   "execution_count": 61,
   "id": "0b1713d2",
   "metadata": {},
   "outputs": [],
   "source": [
    "diamonds2['color'] = diamonds2['color'].map({'J': 1,\n",
    "                                          'I': 2,\n",
    "                                          'H': 3, \n",
    "                                          'G': 4,\n",
    "                                          'F': 5, \n",
    "                                          'E': 6,\n",
    "                                          'D': 7})"
   ]
  },
  {
   "cell_type": "code",
   "execution_count": 62,
   "id": "c69e7cc5",
   "metadata": {},
   "outputs": [],
   "source": [
    "diamonds2['continent'] = diamonds2['city'].map({'Dubai': 'Asia',\n",
    "                                                'Kimberly': 'Africa',\n",
    "                                                'Las Vegas': 'America',\n",
    "                                                'Tel Aviv': 'Asia',\n",
    "                                                'Amsterdam': 'Europe',\n",
    "                                                'Zurich': 'Europe',\n",
    "                                                'Antwerp': 'Europe',\n",
    "                                                'Madrid': 'Europe',\n",
    "                                                'Paris': 'Europe',\n",
    "                                                'Surat': 'Asia',\n",
    "                                                'Luxembourg': 'Europe',\n",
    "                                                'London': 'Europe',\n",
    "                                                'New York City': 'America'})"
   ]
  },
  {
   "cell_type": "code",
   "execution_count": 63,
   "id": "cb65bb77",
   "metadata": {},
   "outputs": [],
   "source": [
    "diamonds2 = diamonds2.drop('city', axis=1)"
   ]
  },
  {
   "cell_type": "code",
   "execution_count": 64,
   "id": "c7c3a605",
   "metadata": {},
   "outputs": [
    {
     "data": {
      "text/plain": [
       "continent\n",
       "Europe     20168\n",
       "Asia       10139\n",
       "America     5172\n",
       "Africa      4976\n",
       "Name: count, dtype: int64"
      ]
     },
     "execution_count": 64,
     "metadata": {},
     "output_type": "execute_result"
    }
   ],
   "source": [
    "diamonds2['continent'].value_counts()"
   ]
  },
  {
   "cell_type": "code",
   "execution_count": 65,
   "id": "2cbf4fd1",
   "metadata": {},
   "outputs": [],
   "source": [
    "diamonds2['continent'] = diamonds2['continent'].map({'Africa': 1,\n",
    "                                          'Europe': 2,\n",
    "                                          'America': 3, \n",
    "                                          'Asia': 4})"
   ]
  },
  {
   "cell_type": "code",
   "execution_count": 66,
   "id": "f657831e",
   "metadata": {},
   "outputs": [
    {
     "data": {
      "text/plain": [
       "clarity\n",
       "SI1     9749\n",
       "VS2     9248\n",
       "SI2     6929\n",
       "VS1     6066\n",
       "VVS2    3799\n",
       "VVS1    2774\n",
       "IF      1327\n",
       "I1       563\n",
       "Name: count, dtype: int64"
      ]
     },
     "execution_count": 66,
     "metadata": {},
     "output_type": "execute_result"
    }
   ],
   "source": [
    "diamonds2['clarity'].value_counts()"
   ]
  },
  {
   "cell_type": "code",
   "execution_count": 67,
   "id": "7e8bf3d9",
   "metadata": {},
   "outputs": [],
   "source": [
    "diamonds2['clarity'] = diamonds2['clarity'].map({'I1': 1,\n",
    "                                          'SI1': 2,\n",
    "                                          'SI2': 3, \n",
    "                                          'VS1': 4,\n",
    "                                          'VS2': 5, \n",
    "                                          'VVS1': 6,\n",
    "                                          'VVS2': 7,\n",
    "                                                'IF': 8})"
   ]
  },
  {
   "cell_type": "code",
   "execution_count": 68,
   "id": "f1b071b9",
   "metadata": {},
   "outputs": [
    {
     "name": "stdout",
     "output_type": "stream",
     "text": [
      "<class 'pandas.core.frame.DataFrame'>\n",
      "RangeIndex: 40455 entries, 0 to 40454\n",
      "Data columns (total 9 columns):\n",
      " #   Column     Non-Null Count  Dtype  \n",
      "---  ------     --------------  -----  \n",
      " 0   price      40455 non-null  int64  \n",
      " 1   carat      40455 non-null  float64\n",
      " 2   depth      40455 non-null  float64\n",
      " 3   table      40455 non-null  float64\n",
      " 4   cut        40455 non-null  int64  \n",
      " 5   color      40455 non-null  int64  \n",
      " 6   clarity    40455 non-null  int64  \n",
      " 7   size       40455 non-null  float64\n",
      " 8   continent  40455 non-null  int64  \n",
      "dtypes: float64(4), int64(5)\n",
      "memory usage: 2.8 MB\n"
     ]
    }
   ],
   "source": [
    "diamonds2.info()"
   ]
  },
  {
   "cell_type": "code",
   "execution_count": 69,
   "id": "068bbb8a",
   "metadata": {},
   "outputs": [],
   "source": [
    "X = diamonds2.drop('price', axis=1)\n",
    "y = diamonds2['price']"
   ]
  },
  {
   "cell_type": "code",
   "execution_count": 70,
   "id": "200dff46",
   "metadata": {},
   "outputs": [],
   "source": [
    "X_train, X_test, y_train, y_test = train_test_split(X, y, test_size=0.2, random_state=42)"
   ]
  },
  {
   "cell_type": "code",
   "execution_count": 81,
   "id": "acd44b05",
   "metadata": {},
   "outputs": [],
   "source": [
    "# model = GradientBoostingRegressor(random_state = 42)   # No necesita one hot encoding\n",
    "# model = AdaBoostRegressor(random_state = 42)\n",
    "model = BaggingRegressor(random_state = 42)"
   ]
  },
  {
   "cell_type": "code",
   "execution_count": 82,
   "id": "0235f07b",
   "metadata": {},
   "outputs": [
    {
     "data": {
      "text/html": [
       "<style>#sk-container-id-4 {\n",
       "  /* Definition of color scheme common for light and dark mode */\n",
       "  --sklearn-color-text: black;\n",
       "  --sklearn-color-line: gray;\n",
       "  /* Definition of color scheme for unfitted estimators */\n",
       "  --sklearn-color-unfitted-level-0: #fff5e6;\n",
       "  --sklearn-color-unfitted-level-1: #f6e4d2;\n",
       "  --sklearn-color-unfitted-level-2: #ffe0b3;\n",
       "  --sklearn-color-unfitted-level-3: chocolate;\n",
       "  /* Definition of color scheme for fitted estimators */\n",
       "  --sklearn-color-fitted-level-0: #f0f8ff;\n",
       "  --sklearn-color-fitted-level-1: #d4ebff;\n",
       "  --sklearn-color-fitted-level-2: #b3dbfd;\n",
       "  --sklearn-color-fitted-level-3: cornflowerblue;\n",
       "\n",
       "  /* Specific color for light theme */\n",
       "  --sklearn-color-text-on-default-background: var(--sg-text-color, var(--theme-code-foreground, var(--jp-content-font-color1, black)));\n",
       "  --sklearn-color-background: var(--sg-background-color, var(--theme-background, var(--jp-layout-color0, white)));\n",
       "  --sklearn-color-border-box: var(--sg-text-color, var(--theme-code-foreground, var(--jp-content-font-color1, black)));\n",
       "  --sklearn-color-icon: #696969;\n",
       "\n",
       "  @media (prefers-color-scheme: dark) {\n",
       "    /* Redefinition of color scheme for dark theme */\n",
       "    --sklearn-color-text-on-default-background: var(--sg-text-color, var(--theme-code-foreground, var(--jp-content-font-color1, white)));\n",
       "    --sklearn-color-background: var(--sg-background-color, var(--theme-background, var(--jp-layout-color0, #111)));\n",
       "    --sklearn-color-border-box: var(--sg-text-color, var(--theme-code-foreground, var(--jp-content-font-color1, white)));\n",
       "    --sklearn-color-icon: #878787;\n",
       "  }\n",
       "}\n",
       "\n",
       "#sk-container-id-4 {\n",
       "  color: var(--sklearn-color-text);\n",
       "}\n",
       "\n",
       "#sk-container-id-4 pre {\n",
       "  padding: 0;\n",
       "}\n",
       "\n",
       "#sk-container-id-4 input.sk-hidden--visually {\n",
       "  border: 0;\n",
       "  clip: rect(1px 1px 1px 1px);\n",
       "  clip: rect(1px, 1px, 1px, 1px);\n",
       "  height: 1px;\n",
       "  margin: -1px;\n",
       "  overflow: hidden;\n",
       "  padding: 0;\n",
       "  position: absolute;\n",
       "  width: 1px;\n",
       "}\n",
       "\n",
       "#sk-container-id-4 div.sk-dashed-wrapped {\n",
       "  border: 1px dashed var(--sklearn-color-line);\n",
       "  margin: 0 0.4em 0.5em 0.4em;\n",
       "  box-sizing: border-box;\n",
       "  padding-bottom: 0.4em;\n",
       "  background-color: var(--sklearn-color-background);\n",
       "}\n",
       "\n",
       "#sk-container-id-4 div.sk-container {\n",
       "  /* jupyter's `normalize.less` sets `[hidden] { display: none; }`\n",
       "     but bootstrap.min.css set `[hidden] { display: none !important; }`\n",
       "     so we also need the `!important` here to be able to override the\n",
       "     default hidden behavior on the sphinx rendered scikit-learn.org.\n",
       "     See: https://github.com/scikit-learn/scikit-learn/issues/21755 */\n",
       "  display: inline-block !important;\n",
       "  position: relative;\n",
       "}\n",
       "\n",
       "#sk-container-id-4 div.sk-text-repr-fallback {\n",
       "  display: none;\n",
       "}\n",
       "\n",
       "div.sk-parallel-item,\n",
       "div.sk-serial,\n",
       "div.sk-item {\n",
       "  /* draw centered vertical line to link estimators */\n",
       "  background-image: linear-gradient(var(--sklearn-color-text-on-default-background), var(--sklearn-color-text-on-default-background));\n",
       "  background-size: 2px 100%;\n",
       "  background-repeat: no-repeat;\n",
       "  background-position: center center;\n",
       "}\n",
       "\n",
       "/* Parallel-specific style estimator block */\n",
       "\n",
       "#sk-container-id-4 div.sk-parallel-item::after {\n",
       "  content: \"\";\n",
       "  width: 100%;\n",
       "  border-bottom: 2px solid var(--sklearn-color-text-on-default-background);\n",
       "  flex-grow: 1;\n",
       "}\n",
       "\n",
       "#sk-container-id-4 div.sk-parallel {\n",
       "  display: flex;\n",
       "  align-items: stretch;\n",
       "  justify-content: center;\n",
       "  background-color: var(--sklearn-color-background);\n",
       "  position: relative;\n",
       "}\n",
       "\n",
       "#sk-container-id-4 div.sk-parallel-item {\n",
       "  display: flex;\n",
       "  flex-direction: column;\n",
       "}\n",
       "\n",
       "#sk-container-id-4 div.sk-parallel-item:first-child::after {\n",
       "  align-self: flex-end;\n",
       "  width: 50%;\n",
       "}\n",
       "\n",
       "#sk-container-id-4 div.sk-parallel-item:last-child::after {\n",
       "  align-self: flex-start;\n",
       "  width: 50%;\n",
       "}\n",
       "\n",
       "#sk-container-id-4 div.sk-parallel-item:only-child::after {\n",
       "  width: 0;\n",
       "}\n",
       "\n",
       "/* Serial-specific style estimator block */\n",
       "\n",
       "#sk-container-id-4 div.sk-serial {\n",
       "  display: flex;\n",
       "  flex-direction: column;\n",
       "  align-items: center;\n",
       "  background-color: var(--sklearn-color-background);\n",
       "  padding-right: 1em;\n",
       "  padding-left: 1em;\n",
       "}\n",
       "\n",
       "\n",
       "/* Toggleable style: style used for estimator/Pipeline/ColumnTransformer box that is\n",
       "clickable and can be expanded/collapsed.\n",
       "- Pipeline and ColumnTransformer use this feature and define the default style\n",
       "- Estimators will overwrite some part of the style using the `sk-estimator` class\n",
       "*/\n",
       "\n",
       "/* Pipeline and ColumnTransformer style (default) */\n",
       "\n",
       "#sk-container-id-4 div.sk-toggleable {\n",
       "  /* Default theme specific background. It is overwritten whether we have a\n",
       "  specific estimator or a Pipeline/ColumnTransformer */\n",
       "  background-color: var(--sklearn-color-background);\n",
       "}\n",
       "\n",
       "/* Toggleable label */\n",
       "#sk-container-id-4 label.sk-toggleable__label {\n",
       "  cursor: pointer;\n",
       "  display: block;\n",
       "  width: 100%;\n",
       "  margin-bottom: 0;\n",
       "  padding: 0.5em;\n",
       "  box-sizing: border-box;\n",
       "  text-align: center;\n",
       "}\n",
       "\n",
       "#sk-container-id-4 label.sk-toggleable__label-arrow:before {\n",
       "  /* Arrow on the left of the label */\n",
       "  content: \"▸\";\n",
       "  float: left;\n",
       "  margin-right: 0.25em;\n",
       "  color: var(--sklearn-color-icon);\n",
       "}\n",
       "\n",
       "#sk-container-id-4 label.sk-toggleable__label-arrow:hover:before {\n",
       "  color: var(--sklearn-color-text);\n",
       "}\n",
       "\n",
       "/* Toggleable content - dropdown */\n",
       "\n",
       "#sk-container-id-4 div.sk-toggleable__content {\n",
       "  max-height: 0;\n",
       "  max-width: 0;\n",
       "  overflow: hidden;\n",
       "  text-align: left;\n",
       "  /* unfitted */\n",
       "  background-color: var(--sklearn-color-unfitted-level-0);\n",
       "}\n",
       "\n",
       "#sk-container-id-4 div.sk-toggleable__content.fitted {\n",
       "  /* fitted */\n",
       "  background-color: var(--sklearn-color-fitted-level-0);\n",
       "}\n",
       "\n",
       "#sk-container-id-4 div.sk-toggleable__content pre {\n",
       "  margin: 0.2em;\n",
       "  border-radius: 0.25em;\n",
       "  color: var(--sklearn-color-text);\n",
       "  /* unfitted */\n",
       "  background-color: var(--sklearn-color-unfitted-level-0);\n",
       "}\n",
       "\n",
       "#sk-container-id-4 div.sk-toggleable__content.fitted pre {\n",
       "  /* unfitted */\n",
       "  background-color: var(--sklearn-color-fitted-level-0);\n",
       "}\n",
       "\n",
       "#sk-container-id-4 input.sk-toggleable__control:checked~div.sk-toggleable__content {\n",
       "  /* Expand drop-down */\n",
       "  max-height: 200px;\n",
       "  max-width: 100%;\n",
       "  overflow: auto;\n",
       "}\n",
       "\n",
       "#sk-container-id-4 input.sk-toggleable__control:checked~label.sk-toggleable__label-arrow:before {\n",
       "  content: \"▾\";\n",
       "}\n",
       "\n",
       "/* Pipeline/ColumnTransformer-specific style */\n",
       "\n",
       "#sk-container-id-4 div.sk-label input.sk-toggleable__control:checked~label.sk-toggleable__label {\n",
       "  color: var(--sklearn-color-text);\n",
       "  background-color: var(--sklearn-color-unfitted-level-2);\n",
       "}\n",
       "\n",
       "#sk-container-id-4 div.sk-label.fitted input.sk-toggleable__control:checked~label.sk-toggleable__label {\n",
       "  background-color: var(--sklearn-color-fitted-level-2);\n",
       "}\n",
       "\n",
       "/* Estimator-specific style */\n",
       "\n",
       "/* Colorize estimator box */\n",
       "#sk-container-id-4 div.sk-estimator input.sk-toggleable__control:checked~label.sk-toggleable__label {\n",
       "  /* unfitted */\n",
       "  background-color: var(--sklearn-color-unfitted-level-2);\n",
       "}\n",
       "\n",
       "#sk-container-id-4 div.sk-estimator.fitted input.sk-toggleable__control:checked~label.sk-toggleable__label {\n",
       "  /* fitted */\n",
       "  background-color: var(--sklearn-color-fitted-level-2);\n",
       "}\n",
       "\n",
       "#sk-container-id-4 div.sk-label label.sk-toggleable__label,\n",
       "#sk-container-id-4 div.sk-label label {\n",
       "  /* The background is the default theme color */\n",
       "  color: var(--sklearn-color-text-on-default-background);\n",
       "}\n",
       "\n",
       "/* On hover, darken the color of the background */\n",
       "#sk-container-id-4 div.sk-label:hover label.sk-toggleable__label {\n",
       "  color: var(--sklearn-color-text);\n",
       "  background-color: var(--sklearn-color-unfitted-level-2);\n",
       "}\n",
       "\n",
       "/* Label box, darken color on hover, fitted */\n",
       "#sk-container-id-4 div.sk-label.fitted:hover label.sk-toggleable__label.fitted {\n",
       "  color: var(--sklearn-color-text);\n",
       "  background-color: var(--sklearn-color-fitted-level-2);\n",
       "}\n",
       "\n",
       "/* Estimator label */\n",
       "\n",
       "#sk-container-id-4 div.sk-label label {\n",
       "  font-family: monospace;\n",
       "  font-weight: bold;\n",
       "  display: inline-block;\n",
       "  line-height: 1.2em;\n",
       "}\n",
       "\n",
       "#sk-container-id-4 div.sk-label-container {\n",
       "  text-align: center;\n",
       "}\n",
       "\n",
       "/* Estimator-specific */\n",
       "#sk-container-id-4 div.sk-estimator {\n",
       "  font-family: monospace;\n",
       "  border: 1px dotted var(--sklearn-color-border-box);\n",
       "  border-radius: 0.25em;\n",
       "  box-sizing: border-box;\n",
       "  margin-bottom: 0.5em;\n",
       "  /* unfitted */\n",
       "  background-color: var(--sklearn-color-unfitted-level-0);\n",
       "}\n",
       "\n",
       "#sk-container-id-4 div.sk-estimator.fitted {\n",
       "  /* fitted */\n",
       "  background-color: var(--sklearn-color-fitted-level-0);\n",
       "}\n",
       "\n",
       "/* on hover */\n",
       "#sk-container-id-4 div.sk-estimator:hover {\n",
       "  /* unfitted */\n",
       "  background-color: var(--sklearn-color-unfitted-level-2);\n",
       "}\n",
       "\n",
       "#sk-container-id-4 div.sk-estimator.fitted:hover {\n",
       "  /* fitted */\n",
       "  background-color: var(--sklearn-color-fitted-level-2);\n",
       "}\n",
       "\n",
       "/* Specification for estimator info (e.g. \"i\" and \"?\") */\n",
       "\n",
       "/* Common style for \"i\" and \"?\" */\n",
       "\n",
       ".sk-estimator-doc-link,\n",
       "a:link.sk-estimator-doc-link,\n",
       "a:visited.sk-estimator-doc-link {\n",
       "  float: right;\n",
       "  font-size: smaller;\n",
       "  line-height: 1em;\n",
       "  font-family: monospace;\n",
       "  background-color: var(--sklearn-color-background);\n",
       "  border-radius: 1em;\n",
       "  height: 1em;\n",
       "  width: 1em;\n",
       "  text-decoration: none !important;\n",
       "  margin-left: 1ex;\n",
       "  /* unfitted */\n",
       "  border: var(--sklearn-color-unfitted-level-1) 1pt solid;\n",
       "  color: var(--sklearn-color-unfitted-level-1);\n",
       "}\n",
       "\n",
       ".sk-estimator-doc-link.fitted,\n",
       "a:link.sk-estimator-doc-link.fitted,\n",
       "a:visited.sk-estimator-doc-link.fitted {\n",
       "  /* fitted */\n",
       "  border: var(--sklearn-color-fitted-level-1) 1pt solid;\n",
       "  color: var(--sklearn-color-fitted-level-1);\n",
       "}\n",
       "\n",
       "/* On hover */\n",
       "div.sk-estimator:hover .sk-estimator-doc-link:hover,\n",
       ".sk-estimator-doc-link:hover,\n",
       "div.sk-label-container:hover .sk-estimator-doc-link:hover,\n",
       ".sk-estimator-doc-link:hover {\n",
       "  /* unfitted */\n",
       "  background-color: var(--sklearn-color-unfitted-level-3);\n",
       "  color: var(--sklearn-color-background);\n",
       "  text-decoration: none;\n",
       "}\n",
       "\n",
       "div.sk-estimator.fitted:hover .sk-estimator-doc-link.fitted:hover,\n",
       ".sk-estimator-doc-link.fitted:hover,\n",
       "div.sk-label-container:hover .sk-estimator-doc-link.fitted:hover,\n",
       ".sk-estimator-doc-link.fitted:hover {\n",
       "  /* fitted */\n",
       "  background-color: var(--sklearn-color-fitted-level-3);\n",
       "  color: var(--sklearn-color-background);\n",
       "  text-decoration: none;\n",
       "}\n",
       "\n",
       "/* Span, style for the box shown on hovering the info icon */\n",
       ".sk-estimator-doc-link span {\n",
       "  display: none;\n",
       "  z-index: 9999;\n",
       "  position: relative;\n",
       "  font-weight: normal;\n",
       "  right: .2ex;\n",
       "  padding: .5ex;\n",
       "  margin: .5ex;\n",
       "  width: min-content;\n",
       "  min-width: 20ex;\n",
       "  max-width: 50ex;\n",
       "  color: var(--sklearn-color-text);\n",
       "  box-shadow: 2pt 2pt 4pt #999;\n",
       "  /* unfitted */\n",
       "  background: var(--sklearn-color-unfitted-level-0);\n",
       "  border: .5pt solid var(--sklearn-color-unfitted-level-3);\n",
       "}\n",
       "\n",
       ".sk-estimator-doc-link.fitted span {\n",
       "  /* fitted */\n",
       "  background: var(--sklearn-color-fitted-level-0);\n",
       "  border: var(--sklearn-color-fitted-level-3);\n",
       "}\n",
       "\n",
       ".sk-estimator-doc-link:hover span {\n",
       "  display: block;\n",
       "}\n",
       "\n",
       "/* \"?\"-specific style due to the `<a>` HTML tag */\n",
       "\n",
       "#sk-container-id-4 a.estimator_doc_link {\n",
       "  float: right;\n",
       "  font-size: 1rem;\n",
       "  line-height: 1em;\n",
       "  font-family: monospace;\n",
       "  background-color: var(--sklearn-color-background);\n",
       "  border-radius: 1rem;\n",
       "  height: 1rem;\n",
       "  width: 1rem;\n",
       "  text-decoration: none;\n",
       "  /* unfitted */\n",
       "  color: var(--sklearn-color-unfitted-level-1);\n",
       "  border: var(--sklearn-color-unfitted-level-1) 1pt solid;\n",
       "}\n",
       "\n",
       "#sk-container-id-4 a.estimator_doc_link.fitted {\n",
       "  /* fitted */\n",
       "  border: var(--sklearn-color-fitted-level-1) 1pt solid;\n",
       "  color: var(--sklearn-color-fitted-level-1);\n",
       "}\n",
       "\n",
       "/* On hover */\n",
       "#sk-container-id-4 a.estimator_doc_link:hover {\n",
       "  /* unfitted */\n",
       "  background-color: var(--sklearn-color-unfitted-level-3);\n",
       "  color: var(--sklearn-color-background);\n",
       "  text-decoration: none;\n",
       "}\n",
       "\n",
       "#sk-container-id-4 a.estimator_doc_link.fitted:hover {\n",
       "  /* fitted */\n",
       "  background-color: var(--sklearn-color-fitted-level-3);\n",
       "}\n",
       "</style><div id=\"sk-container-id-4\" class=\"sk-top-container\"><div class=\"sk-text-repr-fallback\"><pre>BaggingRegressor(random_state=42)</pre><b>In a Jupyter environment, please rerun this cell to show the HTML representation or trust the notebook. <br />On GitHub, the HTML representation is unable to render, please try loading this page with nbviewer.org.</b></div><div class=\"sk-container\" hidden><div class=\"sk-item\"><div class=\"sk-estimator fitted sk-toggleable\"><input class=\"sk-toggleable__control sk-hidden--visually\" id=\"sk-estimator-id-4\" type=\"checkbox\" checked><label for=\"sk-estimator-id-4\" class=\"sk-toggleable__label fitted sk-toggleable__label-arrow fitted\">&nbsp;&nbsp;BaggingRegressor<a class=\"sk-estimator-doc-link fitted\" rel=\"noreferrer\" target=\"_blank\" href=\"https://scikit-learn.org/1.4/modules/generated/sklearn.ensemble.BaggingRegressor.html\">?<span>Documentation for BaggingRegressor</span></a><span class=\"sk-estimator-doc-link fitted\">i<span>Fitted</span></span></label><div class=\"sk-toggleable__content fitted\"><pre>BaggingRegressor(random_state=42)</pre></div> </div></div></div></div>"
      ],
      "text/plain": [
       "BaggingRegressor(random_state=42)"
      ]
     },
     "execution_count": 82,
     "metadata": {},
     "output_type": "execute_result"
    }
   ],
   "source": [
    "model.fit(X_train, y_train)"
   ]
  },
  {
   "cell_type": "code",
   "execution_count": 83,
   "id": "9091a8e6",
   "metadata": {},
   "outputs": [],
   "source": [
    "# predict_GB_Label = model.predict(X_test)\n",
    "# predict_AB_label = model.predict(X_test)\n",
    "predict_BR_label = model.predict(X_test)"
   ]
  },
  {
   "cell_type": "code",
   "execution_count": 84,
   "id": "56cd69c9",
   "metadata": {},
   "outputs": [
    {
     "name": "stdout",
     "output_type": "stream",
     "text": [
      "670.2618950777608\n",
      "1116.279244584736\n",
      "564.5579118520077\n"
     ]
    },
    {
     "name": "stderr",
     "output_type": "stream",
     "text": [
      "C:\\Users\\tete1\\miniconda3\\envs\\jupyter_env\\lib\\site-packages\\sklearn\\metrics\\_regression.py:483: FutureWarning: 'squared' is deprecated in version 1.4 and will be removed in 1.6. To calculate the root mean squared error, use the function'root_mean_squared_error'.\n",
      "  warnings.warn(\n"
     ]
    }
   ],
   "source": [
    "# RMSE calculation\n",
    "\n",
    "# rmse_GB_label = mean_squared_error(y_test, predict_GB_Label, squared=False)\n",
    "# rmse_AB_label = mean_squared_error(y_test, predict_AB_label, squared=False)\n",
    "rmse_BR_label = mean_squared_error(y_test, predict_BR_label, squared=False)\n",
    "print(rmse_GB_label)\n",
    "print(rmse_AB_label)\n",
    "print(rmse_BR_label)"
   ]
  },
  {
   "cell_type": "markdown",
   "id": "13c2b45b",
   "metadata": {},
   "source": [
    "# Aplico a diamonds_test el último"
   ]
  },
  {
   "cell_type": "code",
   "execution_count": 94,
   "id": "734f6784",
   "metadata": {},
   "outputs": [],
   "source": [
    "diamonds_test = pd.read_csv('./data/diamonds_test.csv')"
   ]
  },
  {
   "cell_type": "code",
   "execution_count": 95,
   "id": "a0be2f00",
   "metadata": {},
   "outputs": [
    {
     "name": "stdout",
     "output_type": "stream",
     "text": [
      "<class 'pandas.core.frame.DataFrame'>\n",
      "RangeIndex: 13485 entries, 0 to 13484\n",
      "Data columns (total 11 columns):\n",
      " #   Column   Non-Null Count  Dtype  \n",
      "---  ------   --------------  -----  \n",
      " 0   id       13485 non-null  int64  \n",
      " 1   carat    13485 non-null  float64\n",
      " 2   cut      13485 non-null  object \n",
      " 3   color    13485 non-null  object \n",
      " 4   clarity  13485 non-null  object \n",
      " 5   depth    13485 non-null  float64\n",
      " 6   table    13485 non-null  float64\n",
      " 7   x        13485 non-null  float64\n",
      " 8   y        13485 non-null  float64\n",
      " 9   z        13485 non-null  float64\n",
      " 10  city     13485 non-null  object \n",
      "dtypes: float64(6), int64(1), object(4)\n",
      "memory usage: 1.1+ MB\n"
     ]
    }
   ],
   "source": [
    "diamonds_test.info()"
   ]
  },
  {
   "cell_type": "code",
   "execution_count": 97,
   "id": "8501b340",
   "metadata": {},
   "outputs": [],
   "source": [
    "diamonds_test = diamonds_test.drop('id', axis=1)"
   ]
  },
  {
   "cell_type": "code",
   "execution_count": 98,
   "id": "bf9ed32b",
   "metadata": {},
   "outputs": [],
   "source": [
    "diamonds_test[\"size\"] = diamonds_test[\"x\"] * diamonds_test[\"y\"] * diamonds_test[\"z\"]"
   ]
  },
  {
   "cell_type": "code",
   "execution_count": 99,
   "id": "2556a231",
   "metadata": {},
   "outputs": [],
   "source": [
    "diamonds_test = diamonds_test.drop('x', axis=1).drop('y', axis=1).drop('z', axis=1)"
   ]
  },
  {
   "cell_type": "code",
   "execution_count": 100,
   "id": "bf14e4e7",
   "metadata": {},
   "outputs": [],
   "source": [
    "diamonds_test['cut'] = diamonds_test['cut'].map({'Fair': 1, \n",
    "                                       'Good': 2, \n",
    "                                       'Very Good': 3, \n",
    "                                       'Premium': 4, \n",
    "                                       'Ideal': 5})"
   ]
  },
  {
   "cell_type": "code",
   "execution_count": 101,
   "id": "1e902c0e",
   "metadata": {},
   "outputs": [],
   "source": [
    "diamonds_test['color'] = diamonds_test['color'].map({'J': 1,\n",
    "                                          'I': 2,\n",
    "                                          'H': 3, \n",
    "                                          'G': 4,\n",
    "                                          'F': 5, \n",
    "                                          'E': 6,\n",
    "                                          'D': 7})"
   ]
  },
  {
   "cell_type": "code",
   "execution_count": 102,
   "id": "6dc0b3e5",
   "metadata": {},
   "outputs": [],
   "source": [
    "diamonds_test['continent'] = diamonds_test['city'].map({'Dubai': 'Asia',\n",
    "                                                'Kimberly': 'Africa',\n",
    "                                                'Las Vegas': 'America',\n",
    "                                                'Tel Aviv': 'Asia',\n",
    "                                                'Amsterdam': 'Europe',\n",
    "                                                'Zurich': 'Europe',\n",
    "                                                'Antwerp': 'Europe',\n",
    "                                                'Madrid': 'Europe',\n",
    "                                                'Paris': 'Europe',\n",
    "                                                'Surat': 'Asia',\n",
    "                                                'Luxembourg': 'Europe',\n",
    "                                                'London': 'Europe',\n",
    "                                                'New York City': 'America'})"
   ]
  },
  {
   "cell_type": "code",
   "execution_count": 104,
   "id": "5f260c2e",
   "metadata": {},
   "outputs": [],
   "source": [
    "diamonds_test = diamonds_test.drop('city', axis=1)"
   ]
  },
  {
   "cell_type": "code",
   "execution_count": 105,
   "id": "867d81a6",
   "metadata": {},
   "outputs": [],
   "source": [
    "diamonds_test['continent'] = diamonds_test['continent'].map({'Africa': 1,\n",
    "                                          'Europe': 2,\n",
    "                                          'America': 3, \n",
    "                                          'Asia': 4})"
   ]
  },
  {
   "cell_type": "code",
   "execution_count": 106,
   "id": "db1a3e5f",
   "metadata": {},
   "outputs": [],
   "source": [
    "diamonds_test['clarity'] = diamonds_test['clarity'].map({'I1': 1,\n",
    "                                          'SI1': 2,\n",
    "                                          'SI2': 3, \n",
    "                                          'VS1': 4,\n",
    "                                          'VS2': 5, \n",
    "                                          'VVS1': 6,\n",
    "                                          'VVS2': 7,\n",
    "                                                'IF': 8})"
   ]
  },
  {
   "cell_type": "code",
   "execution_count": 107,
   "id": "f6a6b7a7",
   "metadata": {},
   "outputs": [
    {
     "name": "stdout",
     "output_type": "stream",
     "text": [
      "<class 'pandas.core.frame.DataFrame'>\n",
      "RangeIndex: 13485 entries, 0 to 13484\n",
      "Data columns (total 8 columns):\n",
      " #   Column     Non-Null Count  Dtype  \n",
      "---  ------     --------------  -----  \n",
      " 0   carat      13485 non-null  float64\n",
      " 1   cut        13485 non-null  int64  \n",
      " 2   color      13485 non-null  int64  \n",
      " 3   clarity    13485 non-null  int64  \n",
      " 4   depth      13485 non-null  float64\n",
      " 5   table      13485 non-null  float64\n",
      " 6   size       13485 non-null  float64\n",
      " 7   continent  13485 non-null  int64  \n",
      "dtypes: float64(4), int64(4)\n",
      "memory usage: 842.9 KB\n"
     ]
    }
   ],
   "source": [
    "diamonds_test.info()"
   ]
  },
  {
   "cell_type": "code",
   "execution_count": 110,
   "id": "8958e765",
   "metadata": {},
   "outputs": [
    {
     "data": {
      "text/html": [
       "<div>\n",
       "<style scoped>\n",
       "    .dataframe tbody tr th:only-of-type {\n",
       "        vertical-align: middle;\n",
       "    }\n",
       "\n",
       "    .dataframe tbody tr th {\n",
       "        vertical-align: top;\n",
       "    }\n",
       "\n",
       "    .dataframe thead th {\n",
       "        text-align: right;\n",
       "    }\n",
       "</style>\n",
       "<table border=\"1\" class=\"dataframe\">\n",
       "  <thead>\n",
       "    <tr style=\"text-align: right;\">\n",
       "      <th></th>\n",
       "      <th>carat</th>\n",
       "      <th>cut</th>\n",
       "      <th>color</th>\n",
       "      <th>clarity</th>\n",
       "      <th>depth</th>\n",
       "      <th>table</th>\n",
       "      <th>size</th>\n",
       "      <th>continent</th>\n",
       "    </tr>\n",
       "  </thead>\n",
       "  <tbody>\n",
       "    <tr>\n",
       "      <th>0</th>\n",
       "      <td>0.79</td>\n",
       "      <td>3</td>\n",
       "      <td>5</td>\n",
       "      <td>2</td>\n",
       "      <td>62.7</td>\n",
       "      <td>60.0</td>\n",
       "      <td>125.806866</td>\n",
       "      <td>2</td>\n",
       "    </tr>\n",
       "    <tr>\n",
       "      <th>1</th>\n",
       "      <td>1.20</td>\n",
       "      <td>5</td>\n",
       "      <td>1</td>\n",
       "      <td>4</td>\n",
       "      <td>61.0</td>\n",
       "      <td>57.0</td>\n",
       "      <td>196.129362</td>\n",
       "      <td>4</td>\n",
       "    </tr>\n",
       "    <tr>\n",
       "      <th>2</th>\n",
       "      <td>1.57</td>\n",
       "      <td>4</td>\n",
       "      <td>3</td>\n",
       "      <td>2</td>\n",
       "      <td>62.2</td>\n",
       "      <td>61.0</td>\n",
       "      <td>246.878712</td>\n",
       "      <td>1</td>\n",
       "    </tr>\n",
       "    <tr>\n",
       "      <th>3</th>\n",
       "      <td>0.90</td>\n",
       "      <td>3</td>\n",
       "      <td>5</td>\n",
       "      <td>2</td>\n",
       "      <td>63.8</td>\n",
       "      <td>54.0</td>\n",
       "      <td>145.593630</td>\n",
       "      <td>1</td>\n",
       "    </tr>\n",
       "    <tr>\n",
       "      <th>4</th>\n",
       "      <td>0.50</td>\n",
       "      <td>3</td>\n",
       "      <td>5</td>\n",
       "      <td>4</td>\n",
       "      <td>62.9</td>\n",
       "      <td>58.0</td>\n",
       "      <td>81.997355</td>\n",
       "      <td>2</td>\n",
       "    </tr>\n",
       "  </tbody>\n",
       "</table>\n",
       "</div>"
      ],
      "text/plain": [
       "   carat  cut  color  clarity  depth  table        size  continent\n",
       "0   0.79    3      5        2   62.7   60.0  125.806866          2\n",
       "1   1.20    5      1        4   61.0   57.0  196.129362          4\n",
       "2   1.57    4      3        2   62.2   61.0  246.878712          1\n",
       "3   0.90    3      5        2   63.8   54.0  145.593630          1\n",
       "4   0.50    3      5        4   62.9   58.0   81.997355          2"
      ]
     },
     "execution_count": 110,
     "metadata": {},
     "output_type": "execute_result"
    }
   ],
   "source": [
    "diamonds_test.head()"
   ]
  },
  {
   "cell_type": "code",
   "execution_count": 111,
   "id": "6675fc6d",
   "metadata": {},
   "outputs": [],
   "source": [
    "diamonds_test = diamonds_test[['carat', 'depth', 'table', 'cut', 'color', 'clarity', 'size', 'continent']]"
   ]
  },
  {
   "cell_type": "code",
   "execution_count": 112,
   "id": "db4f2c69",
   "metadata": {},
   "outputs": [
    {
     "data": {
      "text/html": [
       "<div>\n",
       "<style scoped>\n",
       "    .dataframe tbody tr th:only-of-type {\n",
       "        vertical-align: middle;\n",
       "    }\n",
       "\n",
       "    .dataframe tbody tr th {\n",
       "        vertical-align: top;\n",
       "    }\n",
       "\n",
       "    .dataframe thead th {\n",
       "        text-align: right;\n",
       "    }\n",
       "</style>\n",
       "<table border=\"1\" class=\"dataframe\">\n",
       "  <thead>\n",
       "    <tr style=\"text-align: right;\">\n",
       "      <th></th>\n",
       "      <th>carat</th>\n",
       "      <th>depth</th>\n",
       "      <th>table</th>\n",
       "      <th>cut</th>\n",
       "      <th>color</th>\n",
       "      <th>clarity</th>\n",
       "      <th>size</th>\n",
       "      <th>continent</th>\n",
       "    </tr>\n",
       "  </thead>\n",
       "  <tbody>\n",
       "    <tr>\n",
       "      <th>0</th>\n",
       "      <td>0.79</td>\n",
       "      <td>62.7</td>\n",
       "      <td>60.0</td>\n",
       "      <td>3</td>\n",
       "      <td>5</td>\n",
       "      <td>2</td>\n",
       "      <td>125.806866</td>\n",
       "      <td>2</td>\n",
       "    </tr>\n",
       "    <tr>\n",
       "      <th>1</th>\n",
       "      <td>1.20</td>\n",
       "      <td>61.0</td>\n",
       "      <td>57.0</td>\n",
       "      <td>5</td>\n",
       "      <td>1</td>\n",
       "      <td>4</td>\n",
       "      <td>196.129362</td>\n",
       "      <td>4</td>\n",
       "    </tr>\n",
       "    <tr>\n",
       "      <th>2</th>\n",
       "      <td>1.57</td>\n",
       "      <td>62.2</td>\n",
       "      <td>61.0</td>\n",
       "      <td>4</td>\n",
       "      <td>3</td>\n",
       "      <td>2</td>\n",
       "      <td>246.878712</td>\n",
       "      <td>1</td>\n",
       "    </tr>\n",
       "    <tr>\n",
       "      <th>3</th>\n",
       "      <td>0.90</td>\n",
       "      <td>63.8</td>\n",
       "      <td>54.0</td>\n",
       "      <td>3</td>\n",
       "      <td>5</td>\n",
       "      <td>2</td>\n",
       "      <td>145.593630</td>\n",
       "      <td>1</td>\n",
       "    </tr>\n",
       "    <tr>\n",
       "      <th>4</th>\n",
       "      <td>0.50</td>\n",
       "      <td>62.9</td>\n",
       "      <td>58.0</td>\n",
       "      <td>3</td>\n",
       "      <td>5</td>\n",
       "      <td>4</td>\n",
       "      <td>81.997355</td>\n",
       "      <td>2</td>\n",
       "    </tr>\n",
       "  </tbody>\n",
       "</table>\n",
       "</div>"
      ],
      "text/plain": [
       "   carat  depth  table  cut  color  clarity        size  continent\n",
       "0   0.79   62.7   60.0    3      5        2  125.806866          2\n",
       "1   1.20   61.0   57.0    5      1        4  196.129362          4\n",
       "2   1.57   62.2   61.0    4      3        2  246.878712          1\n",
       "3   0.90   63.8   54.0    3      5        2  145.593630          1\n",
       "4   0.50   62.9   58.0    3      5        4   81.997355          2"
      ]
     },
     "execution_count": 112,
     "metadata": {},
     "output_type": "execute_result"
    }
   ],
   "source": [
    "diamonds_test.head()"
   ]
  },
  {
   "cell_type": "code",
   "execution_count": 113,
   "id": "c388bdf7",
   "metadata": {},
   "outputs": [],
   "source": [
    "predict_BR_label_sub = model.predict(diamonds_test)"
   ]
  },
  {
   "cell_type": "code",
   "execution_count": 114,
   "id": "6387cc44",
   "metadata": {},
   "outputs": [],
   "source": [
    "predict_BR_label_sub = pd.DataFrame(predict_BR_label_sub, columns=['price'])"
   ]
  },
  {
   "cell_type": "code",
   "execution_count": 115,
   "id": "e0ec57ee",
   "metadata": {},
   "outputs": [
    {
     "data": {
      "text/html": [
       "<div>\n",
       "<style scoped>\n",
       "    .dataframe tbody tr th:only-of-type {\n",
       "        vertical-align: middle;\n",
       "    }\n",
       "\n",
       "    .dataframe tbody tr th {\n",
       "        vertical-align: top;\n",
       "    }\n",
       "\n",
       "    .dataframe thead th {\n",
       "        text-align: right;\n",
       "    }\n",
       "</style>\n",
       "<table border=\"1\" class=\"dataframe\">\n",
       "  <thead>\n",
       "    <tr style=\"text-align: right;\">\n",
       "      <th></th>\n",
       "      <th>id</th>\n",
       "      <th>price</th>\n",
       "    </tr>\n",
       "  </thead>\n",
       "  <tbody>\n",
       "    <tr>\n",
       "      <th>0</th>\n",
       "      <td>0</td>\n",
       "      <td>2957.8</td>\n",
       "    </tr>\n",
       "    <tr>\n",
       "      <th>1</th>\n",
       "      <td>1</td>\n",
       "      <td>5249.2</td>\n",
       "    </tr>\n",
       "    <tr>\n",
       "      <th>2</th>\n",
       "      <td>2</td>\n",
       "      <td>9257.9</td>\n",
       "    </tr>\n",
       "    <tr>\n",
       "      <th>3</th>\n",
       "      <td>3</td>\n",
       "      <td>4076.5</td>\n",
       "    </tr>\n",
       "    <tr>\n",
       "      <th>4</th>\n",
       "      <td>4</td>\n",
       "      <td>1725.4</td>\n",
       "    </tr>\n",
       "    <tr>\n",
       "      <th>...</th>\n",
       "      <td>...</td>\n",
       "      <td>...</td>\n",
       "    </tr>\n",
       "    <tr>\n",
       "      <th>13480</th>\n",
       "      <td>13480</td>\n",
       "      <td>1685.4</td>\n",
       "    </tr>\n",
       "    <tr>\n",
       "      <th>13481</th>\n",
       "      <td>13481</td>\n",
       "      <td>2483.5</td>\n",
       "    </tr>\n",
       "    <tr>\n",
       "      <th>13482</th>\n",
       "      <td>13482</td>\n",
       "      <td>3254.1</td>\n",
       "    </tr>\n",
       "    <tr>\n",
       "      <th>13483</th>\n",
       "      <td>13483</td>\n",
       "      <td>2010.2</td>\n",
       "    </tr>\n",
       "    <tr>\n",
       "      <th>13484</th>\n",
       "      <td>13484</td>\n",
       "      <td>957.6</td>\n",
       "    </tr>\n",
       "  </tbody>\n",
       "</table>\n",
       "<p>13485 rows × 2 columns</p>\n",
       "</div>"
      ],
      "text/plain": [
       "          id   price\n",
       "0          0  2957.8\n",
       "1          1  5249.2\n",
       "2          2  9257.9\n",
       "3          3  4076.5\n",
       "4          4  1725.4\n",
       "...      ...     ...\n",
       "13480  13480  1685.4\n",
       "13481  13481  2483.5\n",
       "13482  13482  3254.1\n",
       "13483  13483  2010.2\n",
       "13484  13484   957.6\n",
       "\n",
       "[13485 rows x 2 columns]"
      ]
     },
     "execution_count": 115,
     "metadata": {},
     "output_type": "execute_result"
    }
   ],
   "source": [
    "predict_BR_label_sub['id'] = range(0, len(predict_BR_label_sub))\n",
    "predict_BR_label_sub = predict_BR_label_sub[['id', 'price']]\n",
    "predict_BR_label_sub"
   ]
  },
  {
   "cell_type": "code",
   "execution_count": 116,
   "id": "b7900edd",
   "metadata": {},
   "outputs": [],
   "source": [
    "predict_BR_label_sub.to_csv('./submissions/submission_predict_BR_label.csv', index=False)"
   ]
  },
  {
   "cell_type": "code",
   "execution_count": null,
   "id": "79a2f755",
   "metadata": {},
   "outputs": [],
   "source": []
  }
 ],
 "metadata": {
  "kernelspec": {
   "display_name": "Sklearn_env",
   "language": "python",
   "name": "sklearn_env"
  },
  "language_info": {
   "codemirror_mode": {
    "name": "ipython",
    "version": 3
   },
   "file_extension": ".py",
   "mimetype": "text/x-python",
   "name": "python",
   "nbconvert_exporter": "python",
   "pygments_lexer": "ipython3",
   "version": "3.10.13"
  }
 },
 "nbformat": 4,
 "nbformat_minor": 5
}

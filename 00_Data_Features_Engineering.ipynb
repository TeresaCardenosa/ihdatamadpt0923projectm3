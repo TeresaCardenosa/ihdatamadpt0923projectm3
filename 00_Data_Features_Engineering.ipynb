{
 "cells": [
  {
   "cell_type": "code",
   "execution_count": 1,
   "id": "e05b7023",
   "metadata": {},
   "outputs": [],
   "source": [
    "import numpy as np\n",
    "import pandas as pd\n",
    "\n",
    "import seaborn as sns\n",
    "import matplotlib.pyplot as plt"
   ]
  },
  {
   "cell_type": "code",
   "execution_count": 2,
   "id": "439ea2f7",
   "metadata": {},
   "outputs": [],
   "source": [
    "diamonds = pd.read_csv('./data/diamonds.csv')"
   ]
  },
  {
   "cell_type": "code",
   "execution_count": 3,
   "id": "c387638b",
   "metadata": {},
   "outputs": [
    {
     "name": "stdout",
     "output_type": "stream",
     "text": [
      "<class 'pandas.core.frame.DataFrame'>\n",
      "RangeIndex: 40455 entries, 0 to 40454\n",
      "Data columns (total 11 columns):\n",
      " #   Column   Non-Null Count  Dtype  \n",
      "---  ------   --------------  -----  \n",
      " 0   price    40455 non-null  int64  \n",
      " 1   carat    40455 non-null  float64\n",
      " 2   city     40455 non-null  object \n",
      " 3   depth    40455 non-null  float64\n",
      " 4   table    40455 non-null  float64\n",
      " 5   x        40455 non-null  float64\n",
      " 6   y        40455 non-null  float64\n",
      " 7   z        40455 non-null  float64\n",
      " 8   cut      40455 non-null  object \n",
      " 9   color    40455 non-null  object \n",
      " 10  clarity  40455 non-null  object \n",
      "dtypes: float64(6), int64(1), object(4)\n",
      "memory usage: 3.4+ MB\n"
     ]
    }
   ],
   "source": [
    "diamonds.info()"
   ]
  },
  {
   "cell_type": "markdown",
   "id": "e73fba1f",
   "metadata": {},
   "source": [
    "# Opción 1\n",
    "- Eliminamos las filas de 0\n",
    "- Eliminamos columna depth\n",
    "- Reducimos dimensionalidad de city por continent\n",
    "- Mantenemos el resto de columnas\n",
    "- One hot enconding sobre todas\n",
    "\n",
    "- Resultado\n",
    "diamonds_01"
   ]
  },
  {
   "cell_type": "code",
   "execution_count": 4,
   "id": "a6e84def",
   "metadata": {},
   "outputs": [],
   "source": [
    "diamonds_1 = diamonds.copy()"
   ]
  },
  {
   "cell_type": "code",
   "execution_count": 5,
   "id": "126a9e6e",
   "metadata": {},
   "outputs": [],
   "source": [
    "diamonds_1.drop(diamonds_1[(diamonds_1['x'] == 0) | (diamonds_1['y'] == 0) | (diamonds_1['z'] == 0)].index, inplace=True)"
   ]
  },
  {
   "cell_type": "code",
   "execution_count": 6,
   "id": "5ee511da",
   "metadata": {},
   "outputs": [
    {
     "name": "stdout",
     "output_type": "stream",
     "text": [
      "<class 'pandas.core.frame.DataFrame'>\n",
      "Index: 40439 entries, 0 to 40454\n",
      "Data columns (total 11 columns):\n",
      " #   Column   Non-Null Count  Dtype  \n",
      "---  ------   --------------  -----  \n",
      " 0   price    40439 non-null  int64  \n",
      " 1   carat    40439 non-null  float64\n",
      " 2   city     40439 non-null  object \n",
      " 3   depth    40439 non-null  float64\n",
      " 4   table    40439 non-null  float64\n",
      " 5   x        40439 non-null  float64\n",
      " 6   y        40439 non-null  float64\n",
      " 7   z        40439 non-null  float64\n",
      " 8   cut      40439 non-null  object \n",
      " 9   color    40439 non-null  object \n",
      " 10  clarity  40439 non-null  object \n",
      "dtypes: float64(6), int64(1), object(4)\n",
      "memory usage: 3.7+ MB\n"
     ]
    }
   ],
   "source": [
    "diamonds_1.info()"
   ]
  },
  {
   "cell_type": "code",
   "execution_count": 7,
   "id": "b865f1e1",
   "metadata": {},
   "outputs": [],
   "source": [
    "diamonds_1.drop('depth', axis=1, inplace=True)"
   ]
  },
  {
   "cell_type": "code",
   "execution_count": 59,
   "id": "e96aae9f",
   "metadata": {},
   "outputs": [],
   "source": [
    "city_map = {\n",
    "    'Dubai': 'Asia',\n",
    "    'Kimberly': 'Africa',\n",
    "    'Las Vegas': 'America',\n",
    "    'Tel Aviv': 'Asia',\n",
    "    'Amsterdam': 'Europe',\n",
    "    'Zurich': 'Europe',\n",
    "    'Antwerp': 'Europe',\n",
    "    'Madrid': 'Europe',\n",
    "    'Paris': 'Europe',\n",
    "    'Surat': 'Asia',\n",
    "    'Luxembourg': 'Europe',\n",
    "    'London': 'Europe',\n",
    "    'New York City': 'America'\n",
    "}"
   ]
  },
  {
   "cell_type": "code",
   "execution_count": 9,
   "id": "eef828fc",
   "metadata": {},
   "outputs": [],
   "source": [
    "diamonds_1['continent'] = diamonds_1['city'].map(city_map)"
   ]
  },
  {
   "cell_type": "code",
   "execution_count": 10,
   "id": "f1c6fe95",
   "metadata": {},
   "outputs": [],
   "source": [
    "diamonds_1.drop('city', axis=1, inplace=True)"
   ]
  },
  {
   "cell_type": "code",
   "execution_count": 11,
   "id": "2c600968",
   "metadata": {},
   "outputs": [],
   "source": [
    "diamonds_1 = pd.get_dummies(diamonds_1, drop_first=True, dtype=float)"
   ]
  },
  {
   "cell_type": "code",
   "execution_count": 12,
   "id": "a9214e06",
   "metadata": {},
   "outputs": [
    {
     "name": "stdout",
     "output_type": "stream",
     "text": [
      "<class 'pandas.core.frame.DataFrame'>\n",
      "Index: 40439 entries, 0 to 40454\n",
      "Data columns (total 26 columns):\n",
      " #   Column             Non-Null Count  Dtype  \n",
      "---  ------             --------------  -----  \n",
      " 0   price              40439 non-null  int64  \n",
      " 1   carat              40439 non-null  float64\n",
      " 2   table              40439 non-null  float64\n",
      " 3   x                  40439 non-null  float64\n",
      " 4   y                  40439 non-null  float64\n",
      " 5   z                  40439 non-null  float64\n",
      " 6   cut_Good           40439 non-null  float64\n",
      " 7   cut_Ideal          40439 non-null  float64\n",
      " 8   cut_Premium        40439 non-null  float64\n",
      " 9   cut_Very Good      40439 non-null  float64\n",
      " 10  color_E            40439 non-null  float64\n",
      " 11  color_F            40439 non-null  float64\n",
      " 12  color_G            40439 non-null  float64\n",
      " 13  color_H            40439 non-null  float64\n",
      " 14  color_I            40439 non-null  float64\n",
      " 15  color_J            40439 non-null  float64\n",
      " 16  clarity_IF         40439 non-null  float64\n",
      " 17  clarity_SI1        40439 non-null  float64\n",
      " 18  clarity_SI2        40439 non-null  float64\n",
      " 19  clarity_VS1        40439 non-null  float64\n",
      " 20  clarity_VS2        40439 non-null  float64\n",
      " 21  clarity_VVS1       40439 non-null  float64\n",
      " 22  clarity_VVS2       40439 non-null  float64\n",
      " 23  continent_America  40439 non-null  float64\n",
      " 24  continent_Asia     40439 non-null  float64\n",
      " 25  continent_Europe   40439 non-null  float64\n",
      "dtypes: float64(25), int64(1)\n",
      "memory usage: 8.3 MB\n"
     ]
    }
   ],
   "source": [
    "diamonds_1.info()"
   ]
  },
  {
   "cell_type": "code",
   "execution_count": 13,
   "id": "7bf92a06",
   "metadata": {},
   "outputs": [],
   "source": [
    "diamonds_1.to_csv('./data/diamonds_1.csv', index=False)"
   ]
  },
  {
   "cell_type": "markdown",
   "id": "7a5b1802",
   "metadata": {},
   "source": [
    "# Opción 2\n",
    "- Eliminamos las filas de 0\n",
    "- Eliminamos columna depth\n",
    "- Eliminamos city\n",
    "- Aplicamos label enconding sobre continent, clarity, cut y color\n",
    "\n",
    "- Resultado\n",
    "diamonds_02"
   ]
  },
  {
   "cell_type": "code",
   "execution_count": 14,
   "id": "71166a9a",
   "metadata": {},
   "outputs": [],
   "source": [
    "diamonds_2 = diamonds.copy()"
   ]
  },
  {
   "cell_type": "code",
   "execution_count": 15,
   "id": "6c86b31c",
   "metadata": {},
   "outputs": [],
   "source": [
    "diamonds_2.drop(diamonds_2[(diamonds_2['x'] == 0) | (diamonds_2['y'] == 0) | (diamonds_2['z'] == 0)].index, inplace=True)"
   ]
  },
  {
   "cell_type": "code",
   "execution_count": 16,
   "id": "017dd297",
   "metadata": {},
   "outputs": [],
   "source": [
    "diamonds_2.drop('depth', axis=1, inplace=True)"
   ]
  },
  {
   "cell_type": "code",
   "execution_count": 17,
   "id": "4cac78d6",
   "metadata": {},
   "outputs": [],
   "source": [
    "diamonds_2.drop('city', axis=1, inplace=True)"
   ]
  },
  {
   "cell_type": "code",
   "execution_count": 56,
   "id": "2a67f1b2",
   "metadata": {},
   "outputs": [],
   "source": [
    "cut_map = {'Fair': 1,\n",
    "           'Good': 2,\n",
    "           'Very Good': 3,\n",
    "           'Premium': 4,\n",
    "           'Ideal': 5}"
   ]
  },
  {
   "cell_type": "code",
   "execution_count": 19,
   "id": "32c661be",
   "metadata": {},
   "outputs": [],
   "source": [
    "diamonds_2['cut'] = diamonds_2['cut'].map(cut_map)"
   ]
  },
  {
   "cell_type": "code",
   "execution_count": 57,
   "id": "f63ffcb1",
   "metadata": {},
   "outputs": [],
   "source": [
    "color_map = {'J': 1,\n",
    "             'I': 2,\n",
    "             'H': 3,\n",
    "             'G': 4,\n",
    "             'F': 5,\n",
    "             'E': 6,\n",
    "             'D': 7}"
   ]
  },
  {
   "cell_type": "code",
   "execution_count": 21,
   "id": "1e86e762",
   "metadata": {},
   "outputs": [],
   "source": [
    "diamonds_2['color'] = diamonds_2['color'].map(color_map)"
   ]
  },
  {
   "cell_type": "code",
   "execution_count": 58,
   "id": "8daee235",
   "metadata": {},
   "outputs": [],
   "source": [
    "clarity_map = {'I1': 1,\n",
    "               'SI2': 2,\n",
    "               'SI1': 3,\n",
    "               'VS2': 4,\n",
    "               'VS1': 5,\n",
    "               'VVS2': 6,\n",
    "               'VVS1': 7,\n",
    "               'IF': 8}"
   ]
  },
  {
   "cell_type": "code",
   "execution_count": 23,
   "id": "5c8899f1",
   "metadata": {},
   "outputs": [],
   "source": [
    "diamonds_2['clarity'] = diamonds_2['clarity'].map(clarity_map)"
   ]
  },
  {
   "cell_type": "code",
   "execution_count": 24,
   "id": "c8345299",
   "metadata": {},
   "outputs": [
    {
     "name": "stdout",
     "output_type": "stream",
     "text": [
      "<class 'pandas.core.frame.DataFrame'>\n",
      "Index: 40439 entries, 0 to 40454\n",
      "Data columns (total 9 columns):\n",
      " #   Column   Non-Null Count  Dtype  \n",
      "---  ------   --------------  -----  \n",
      " 0   price    40439 non-null  int64  \n",
      " 1   carat    40439 non-null  float64\n",
      " 2   table    40439 non-null  float64\n",
      " 3   x        40439 non-null  float64\n",
      " 4   y        40439 non-null  float64\n",
      " 5   z        40439 non-null  float64\n",
      " 6   cut      40439 non-null  int64  \n",
      " 7   color    40439 non-null  int64  \n",
      " 8   clarity  40439 non-null  int64  \n",
      "dtypes: float64(5), int64(4)\n",
      "memory usage: 3.1 MB\n"
     ]
    }
   ],
   "source": [
    "diamonds_2.info()"
   ]
  },
  {
   "cell_type": "code",
   "execution_count": 25,
   "id": "a00dab10",
   "metadata": {},
   "outputs": [],
   "source": [
    "diamonds_2.to_csv('./data/diamonds_2.csv', index=False)"
   ]
  },
  {
   "cell_type": "markdown",
   "id": "41009376",
   "metadata": {},
   "source": [
    "# Opción 3\n",
    "- Reemplazamos las filas de 0 por mean\n",
    "- Eliminamos columna depth\n",
    "- Eliminamos city\n",
    "- Aplicamos label enconding sobre continent, clarity, cut y color con otros valores\n",
    "\n",
    "- Resultado\n",
    "diamonds_03"
   ]
  },
  {
   "cell_type": "code",
   "execution_count": 87,
   "id": "bcee78e5",
   "metadata": {},
   "outputs": [],
   "source": [
    "diamonds_3 = diamonds.copy()"
   ]
  },
  {
   "cell_type": "code",
   "execution_count": 88,
   "id": "fb339bd1",
   "metadata": {},
   "outputs": [],
   "source": [
    "media_x = diamonds_3['x'].mean()\n",
    "media_y = diamonds_3['y'].mean()\n",
    "media_z = diamonds_3['z'].mean()"
   ]
  },
  {
   "cell_type": "code",
   "execution_count": 89,
   "id": "4cac99e4",
   "metadata": {},
   "outputs": [],
   "source": [
    "diamonds_3['x'] = diamonds_3['x'].replace(0, media_x)\n",
    "diamonds_3['y'] = diamonds_3['y'].replace(0, media_y)\n",
    "diamonds_3['z'] = diamonds_3['z'].replace(0, media_z)"
   ]
  },
  {
   "cell_type": "code",
   "execution_count": 90,
   "id": "485f2057",
   "metadata": {},
   "outputs": [],
   "source": [
    "diamonds_3.drop('depth', axis=1, inplace=True)"
   ]
  },
  {
   "cell_type": "code",
   "execution_count": 91,
   "id": "6c15b01b",
   "metadata": {},
   "outputs": [],
   "source": [
    "diamonds_3.drop('city', axis=1, inplace=True)"
   ]
  },
  {
   "cell_type": "code",
   "execution_count": 92,
   "id": "b087ee4e",
   "metadata": {},
   "outputs": [],
   "source": [
    "cut_map_2 = {'Fair': 10,\n",
    "           'Good': 50,\n",
    "           'Very Good': 60,\n",
    "           'Premium': 80,\n",
    "           'Ideal': 100}"
   ]
  },
  {
   "cell_type": "code",
   "execution_count": 93,
   "id": "b8991bad",
   "metadata": {},
   "outputs": [],
   "source": [
    "diamonds_3['cut'] = diamonds_3['cut'].map(cut_map_2)"
   ]
  },
  {
   "cell_type": "code",
   "execution_count": 94,
   "id": "2dbd787a",
   "metadata": {},
   "outputs": [],
   "source": [
    "color_map_2 = {'J': 100,\n",
    "             'I': 200,\n",
    "             'H': 300,\n",
    "             'G': 400,\n",
    "             'F': 500,\n",
    "             'E': 600,\n",
    "             'D': 700}"
   ]
  },
  {
   "cell_type": "code",
   "execution_count": 95,
   "id": "0a14e0d5",
   "metadata": {},
   "outputs": [],
   "source": [
    "diamonds_3['color'] = diamonds_3['color'].map(color_map)"
   ]
  },
  {
   "cell_type": "code",
   "execution_count": 96,
   "id": "19eae179",
   "metadata": {},
   "outputs": [],
   "source": [
    "clarity_map = {'I1': 1,\n",
    "               'SI2': 2,\n",
    "               'SI1': 3,\n",
    "               'VS2': 4,\n",
    "               'VS1': 5,\n",
    "               'VVS2': 6,\n",
    "               'VVS1': 7,\n",
    "               'IF': 8}"
   ]
  },
  {
   "cell_type": "code",
   "execution_count": 97,
   "id": "c82ff45c",
   "metadata": {},
   "outputs": [],
   "source": [
    "diamonds_3['clarity'] = diamonds_3['clarity'].map(clarity_map)"
   ]
  },
  {
   "cell_type": "code",
   "execution_count": 98,
   "id": "b9e70bd7",
   "metadata": {},
   "outputs": [
    {
     "name": "stdout",
     "output_type": "stream",
     "text": [
      "<class 'pandas.core.frame.DataFrame'>\n",
      "RangeIndex: 40455 entries, 0 to 40454\n",
      "Data columns (total 9 columns):\n",
      " #   Column   Non-Null Count  Dtype  \n",
      "---  ------   --------------  -----  \n",
      " 0   price    40455 non-null  int64  \n",
      " 1   carat    40455 non-null  float64\n",
      " 2   table    40455 non-null  float64\n",
      " 3   x        40455 non-null  float64\n",
      " 4   y        40455 non-null  float64\n",
      " 5   z        40455 non-null  float64\n",
      " 6   cut      40455 non-null  int64  \n",
      " 7   color    40455 non-null  int64  \n",
      " 8   clarity  40455 non-null  int64  \n",
      "dtypes: float64(5), int64(4)\n",
      "memory usage: 2.8 MB\n"
     ]
    }
   ],
   "source": [
    "diamonds_3.info()"
   ]
  },
  {
   "cell_type": "code",
   "execution_count": 99,
   "id": "ced0507a",
   "metadata": {},
   "outputs": [],
   "source": [
    "diamonds_3.to_csv('./data/diamonds_3.csv', index=False)"
   ]
  },
  {
   "cell_type": "markdown",
   "id": "fcbb5b1b",
   "metadata": {},
   "source": [
    "# Opción 4\n",
    "- Eliminamos las filas de 0\n",
    "- Eliminamos columna depth\n",
    "- Nueva columna de zie\n",
    "- Eliminamos columnas x y z \n",
    "- Eliminamos city\n",
    "- Label enconding de color, clarity, cut \n",
    "\n",
    "- Resultado\n",
    "diamonds_04"
   ]
  },
  {
   "cell_type": "code",
   "execution_count": 60,
   "id": "f965b6db",
   "metadata": {},
   "outputs": [],
   "source": [
    "diamonds_4 = diamonds.copy()"
   ]
  },
  {
   "cell_type": "code",
   "execution_count": 61,
   "id": "bc64b7b9",
   "metadata": {},
   "outputs": [],
   "source": [
    "diamonds_4.drop(diamonds_4[(diamonds_4['x'] == 0) | (diamonds_4['y'] == 0) | (diamonds_4['z'] == 0)].index, inplace=True)"
   ]
  },
  {
   "cell_type": "code",
   "execution_count": 62,
   "id": "49bca773",
   "metadata": {},
   "outputs": [],
   "source": [
    "diamonds_4.drop('depth', axis=1, inplace=True)"
   ]
  },
  {
   "cell_type": "code",
   "execution_count": 63,
   "id": "4d6fd052",
   "metadata": {},
   "outputs": [],
   "source": [
    "diamonds_4[\"size\"] = diamonds_4[\"x\"] * diamonds_4[\"y\"] * diamonds_4[\"z\"]"
   ]
  },
  {
   "cell_type": "code",
   "execution_count": 64,
   "id": "b910b92e",
   "metadata": {},
   "outputs": [],
   "source": [
    "diamonds_4 = diamonds_4.drop('x', axis=1).drop('y', axis=1).drop('z', axis=1)"
   ]
  },
  {
   "cell_type": "code",
   "execution_count": 65,
   "id": "2b34fa1b",
   "metadata": {},
   "outputs": [],
   "source": [
    "diamonds_4.drop('city', axis=1, inplace=True)"
   ]
  },
  {
   "cell_type": "code",
   "execution_count": 66,
   "id": "d9db3bb6",
   "metadata": {},
   "outputs": [],
   "source": [
    "diamonds_4['cut'] = diamonds_4['cut'].map(cut_map)"
   ]
  },
  {
   "cell_type": "code",
   "execution_count": 67,
   "id": "0c4501cb",
   "metadata": {},
   "outputs": [],
   "source": [
    "diamonds_4['clarity'] = diamonds_4['clarity'].map(clarity_map)"
   ]
  },
  {
   "cell_type": "code",
   "execution_count": 68,
   "id": "79c5c073",
   "metadata": {},
   "outputs": [],
   "source": [
    "diamonds_4['color'] = diamonds_4['color'].map(color_map)"
   ]
  },
  {
   "cell_type": "code",
   "execution_count": 69,
   "id": "2f77dd86",
   "metadata": {},
   "outputs": [
    {
     "name": "stdout",
     "output_type": "stream",
     "text": [
      "<class 'pandas.core.frame.DataFrame'>\n",
      "Index: 40439 entries, 0 to 40454\n",
      "Data columns (total 7 columns):\n",
      " #   Column   Non-Null Count  Dtype  \n",
      "---  ------   --------------  -----  \n",
      " 0   price    40439 non-null  int64  \n",
      " 1   carat    40439 non-null  float64\n",
      " 2   table    40439 non-null  float64\n",
      " 3   cut      40439 non-null  int64  \n",
      " 4   color    40439 non-null  int64  \n",
      " 5   clarity  40439 non-null  int64  \n",
      " 6   size     40439 non-null  float64\n",
      "dtypes: float64(3), int64(4)\n",
      "memory usage: 2.5 MB\n"
     ]
    }
   ],
   "source": [
    "diamonds_4.info()"
   ]
  },
  {
   "cell_type": "code",
   "execution_count": 70,
   "id": "4e0d0ab4",
   "metadata": {},
   "outputs": [],
   "source": [
    "diamonds_4.to_csv('./data/diamonds_4.csv', index=False)"
   ]
  },
  {
   "cell_type": "markdown",
   "id": "fced4da7",
   "metadata": {},
   "source": [
    "# Opción 5\n",
    "- Eliminamos las filas de 0\n",
    "- Eliminamos columna depth\n",
    "- Nueva columna de zie\n",
    "- Eliminamos columnas x y z \n",
    "- Eliminamos columna de city\n",
    "- One hot enconding\n",
    "\n",
    "- Resultado\n",
    "diamonds_05"
   ]
  },
  {
   "cell_type": "code",
   "execution_count": 71,
   "id": "9c40981c",
   "metadata": {},
   "outputs": [],
   "source": [
    "diamonds_5 = diamonds.copy()"
   ]
  },
  {
   "cell_type": "code",
   "execution_count": 72,
   "id": "069caaa0",
   "metadata": {},
   "outputs": [],
   "source": [
    "diamonds_5.drop(diamonds_5[(diamonds_5['x'] == 0) | (diamonds_5['y'] == 0) | (diamonds_5['z'] == 0)].index, inplace=True)"
   ]
  },
  {
   "cell_type": "code",
   "execution_count": 73,
   "id": "d056aa70",
   "metadata": {},
   "outputs": [],
   "source": [
    "diamonds_5.drop('depth', axis=1, inplace=True)"
   ]
  },
  {
   "cell_type": "code",
   "execution_count": 74,
   "id": "9a327b0a",
   "metadata": {},
   "outputs": [],
   "source": [
    "diamonds_5[\"size\"] = diamonds_5[\"x\"] * diamonds_5[\"y\"] * diamonds_5[\"z\"]"
   ]
  },
  {
   "cell_type": "code",
   "execution_count": 75,
   "id": "d827ceb0",
   "metadata": {},
   "outputs": [],
   "source": [
    "diamonds_5 = diamonds_5.drop('x', axis=1).drop('y', axis=1).drop('z', axis=1)"
   ]
  },
  {
   "cell_type": "code",
   "execution_count": 76,
   "id": "133835b8",
   "metadata": {},
   "outputs": [],
   "source": [
    "diamonds_5.drop('city', axis=1, inplace=True)"
   ]
  },
  {
   "cell_type": "code",
   "execution_count": 77,
   "id": "3ad4e78d",
   "metadata": {},
   "outputs": [
    {
     "name": "stdout",
     "output_type": "stream",
     "text": [
      "<class 'pandas.core.frame.DataFrame'>\n",
      "Index: 40439 entries, 0 to 40454\n",
      "Data columns (total 7 columns):\n",
      " #   Column   Non-Null Count  Dtype  \n",
      "---  ------   --------------  -----  \n",
      " 0   price    40439 non-null  int64  \n",
      " 1   carat    40439 non-null  float64\n",
      " 2   table    40439 non-null  float64\n",
      " 3   cut      40439 non-null  object \n",
      " 4   color    40439 non-null  object \n",
      " 5   clarity  40439 non-null  object \n",
      " 6   size     40439 non-null  float64\n",
      "dtypes: float64(3), int64(1), object(3)\n",
      "memory usage: 2.5+ MB\n"
     ]
    }
   ],
   "source": [
    "diamonds_5.info()"
   ]
  },
  {
   "cell_type": "code",
   "execution_count": 78,
   "id": "49e20f8d",
   "metadata": {},
   "outputs": [],
   "source": [
    "diamonds_5 = pd.get_dummies(diamonds_5, drop_first=True, dtype=float)"
   ]
  },
  {
   "cell_type": "code",
   "execution_count": 80,
   "id": "c4c84956",
   "metadata": {},
   "outputs": [
    {
     "name": "stdout",
     "output_type": "stream",
     "text": [
      "<class 'pandas.core.frame.DataFrame'>\n",
      "Index: 40439 entries, 0 to 40454\n",
      "Data columns (total 21 columns):\n",
      " #   Column         Non-Null Count  Dtype  \n",
      "---  ------         --------------  -----  \n",
      " 0   price          40439 non-null  int64  \n",
      " 1   carat          40439 non-null  float64\n",
      " 2   table          40439 non-null  float64\n",
      " 3   size           40439 non-null  float64\n",
      " 4   cut_Good       40439 non-null  float64\n",
      " 5   cut_Ideal      40439 non-null  float64\n",
      " 6   cut_Premium    40439 non-null  float64\n",
      " 7   cut_Very Good  40439 non-null  float64\n",
      " 8   color_E        40439 non-null  float64\n",
      " 9   color_F        40439 non-null  float64\n",
      " 10  color_G        40439 non-null  float64\n",
      " 11  color_H        40439 non-null  float64\n",
      " 12  color_I        40439 non-null  float64\n",
      " 13  color_J        40439 non-null  float64\n",
      " 14  clarity_IF     40439 non-null  float64\n",
      " 15  clarity_SI1    40439 non-null  float64\n",
      " 16  clarity_SI2    40439 non-null  float64\n",
      " 17  clarity_VS1    40439 non-null  float64\n",
      " 18  clarity_VS2    40439 non-null  float64\n",
      " 19  clarity_VVS1   40439 non-null  float64\n",
      " 20  clarity_VVS2   40439 non-null  float64\n",
      "dtypes: float64(20), int64(1)\n",
      "memory usage: 6.8 MB\n"
     ]
    }
   ],
   "source": [
    "diamonds_5.info()"
   ]
  },
  {
   "cell_type": "code",
   "execution_count": 81,
   "id": "55f341fa",
   "metadata": {},
   "outputs": [],
   "source": [
    "diamonds_5.to_csv('./data/diamonds_5.csv', index=False)"
   ]
  },
  {
   "cell_type": "markdown",
   "id": "9b4ee16b",
   "metadata": {},
   "source": [
    "# Opción 6\n",
    "- Eliminamos las filas de 0\n",
    "- Eliminamos columna depth\n",
    "- Nueva columna de zie\n",
    "- Eliminamos columnas x y z \n",
    "- Label enconding sobre color, clarity y cut\n",
    "- One hot enconding por city\n",
    "\n",
    "- Resultado\n",
    "diamonds_06"
   ]
  },
  {
   "cell_type": "code",
   "execution_count": 125,
   "id": "c84c97c0",
   "metadata": {},
   "outputs": [],
   "source": [
    "diamonds_6 = diamonds.copy()"
   ]
  },
  {
   "cell_type": "code",
   "execution_count": 126,
   "id": "bda3f6d1",
   "metadata": {},
   "outputs": [
    {
     "name": "stdout",
     "output_type": "stream",
     "text": [
      "<class 'pandas.core.frame.DataFrame'>\n",
      "RangeIndex: 40455 entries, 0 to 40454\n",
      "Data columns (total 11 columns):\n",
      " #   Column   Non-Null Count  Dtype  \n",
      "---  ------   --------------  -----  \n",
      " 0   price    40455 non-null  int64  \n",
      " 1   carat    40455 non-null  float64\n",
      " 2   city     40455 non-null  object \n",
      " 3   depth    40455 non-null  float64\n",
      " 4   table    40455 non-null  float64\n",
      " 5   x        40455 non-null  float64\n",
      " 6   y        40455 non-null  float64\n",
      " 7   z        40455 non-null  float64\n",
      " 8   cut      40455 non-null  object \n",
      " 9   color    40455 non-null  object \n",
      " 10  clarity  40455 non-null  object \n",
      "dtypes: float64(6), int64(1), object(4)\n",
      "memory usage: 3.4+ MB\n"
     ]
    }
   ],
   "source": [
    "diamonds_6.info()"
   ]
  },
  {
   "cell_type": "code",
   "execution_count": 127,
   "id": "2759f88a",
   "metadata": {},
   "outputs": [],
   "source": [
    "diamonds_6.drop(diamonds_6[(diamonds_6['x'] == 0) | (diamonds_6['y'] == 0) | (diamonds_6['z'] == 0)].index, inplace=True)"
   ]
  },
  {
   "cell_type": "code",
   "execution_count": 128,
   "id": "cf40ca04",
   "metadata": {},
   "outputs": [],
   "source": [
    "diamonds_6.drop('depth', axis=1, inplace=True)"
   ]
  },
  {
   "cell_type": "code",
   "execution_count": 129,
   "id": "03993307",
   "metadata": {},
   "outputs": [],
   "source": [
    "diamonds_6[\"size\"] = diamonds_6[\"x\"] * diamonds_6[\"y\"] * diamonds_6[\"z\"]"
   ]
  },
  {
   "cell_type": "code",
   "execution_count": 130,
   "id": "2b93c86a",
   "metadata": {},
   "outputs": [],
   "source": [
    "diamonds_6 = diamonds_6.drop('x', axis=1).drop('y', axis=1).drop('z', axis=1)"
   ]
  },
  {
   "cell_type": "code",
   "execution_count": 131,
   "id": "fb4e5b7f",
   "metadata": {},
   "outputs": [],
   "source": [
    "diamonds_6['cut'] = diamonds_6['cut'].map(cut_map)"
   ]
  },
  {
   "cell_type": "code",
   "execution_count": 132,
   "id": "1cb9da97",
   "metadata": {},
   "outputs": [],
   "source": [
    "diamonds_6['clarity'] = diamonds_6['clarity'].map(clarity_map)"
   ]
  },
  {
   "cell_type": "code",
   "execution_count": 133,
   "id": "e3becbb4",
   "metadata": {},
   "outputs": [],
   "source": [
    "diamonds_6['color'] = diamonds_6['color'].map(color_map)"
   ]
  },
  {
   "cell_type": "code",
   "execution_count": 134,
   "id": "2a72a667",
   "metadata": {},
   "outputs": [
    {
     "name": "stdout",
     "output_type": "stream",
     "text": [
      "<class 'pandas.core.frame.DataFrame'>\n",
      "Index: 40439 entries, 0 to 40454\n",
      "Data columns (total 8 columns):\n",
      " #   Column   Non-Null Count  Dtype  \n",
      "---  ------   --------------  -----  \n",
      " 0   price    40439 non-null  int64  \n",
      " 1   carat    40439 non-null  float64\n",
      " 2   city     40439 non-null  object \n",
      " 3   table    40439 non-null  float64\n",
      " 4   cut      40439 non-null  int64  \n",
      " 5   color    40439 non-null  int64  \n",
      " 6   clarity  40439 non-null  int64  \n",
      " 7   size     40439 non-null  float64\n",
      "dtypes: float64(3), int64(4), object(1)\n",
      "memory usage: 2.8+ MB\n"
     ]
    }
   ],
   "source": [
    "diamonds_6.info()"
   ]
  },
  {
   "cell_type": "code",
   "execution_count": 135,
   "id": "2d165ec0",
   "metadata": {},
   "outputs": [],
   "source": [
    "diamonds_6 = pd.get_dummies(diamonds_6, drop_first=True, dtype=float)"
   ]
  },
  {
   "cell_type": "code",
   "execution_count": 136,
   "id": "23224501",
   "metadata": {},
   "outputs": [
    {
     "name": "stdout",
     "output_type": "stream",
     "text": [
      "<class 'pandas.core.frame.DataFrame'>\n",
      "Index: 40439 entries, 0 to 40454\n",
      "Data columns (total 19 columns):\n",
      " #   Column              Non-Null Count  Dtype  \n",
      "---  ------              --------------  -----  \n",
      " 0   price               40439 non-null  int64  \n",
      " 1   carat               40439 non-null  float64\n",
      " 2   table               40439 non-null  float64\n",
      " 3   cut                 40439 non-null  int64  \n",
      " 4   color               40439 non-null  int64  \n",
      " 5   clarity             40439 non-null  int64  \n",
      " 6   size                40439 non-null  float64\n",
      " 7   city_Antwerp        40439 non-null  float64\n",
      " 8   city_Dubai          40439 non-null  float64\n",
      " 9   city_Kimberly       40439 non-null  float64\n",
      " 10  city_Las Vegas      40439 non-null  float64\n",
      " 11  city_London         40439 non-null  float64\n",
      " 12  city_Luxembourg     40439 non-null  float64\n",
      " 13  city_Madrid         40439 non-null  float64\n",
      " 14  city_New York City  40439 non-null  float64\n",
      " 15  city_Paris          40439 non-null  float64\n",
      " 16  city_Surat          40439 non-null  float64\n",
      " 17  city_Tel Aviv       40439 non-null  float64\n",
      " 18  city_Zurich         40439 non-null  float64\n",
      "dtypes: float64(15), int64(4)\n",
      "memory usage: 6.2 MB\n"
     ]
    }
   ],
   "source": [
    "diamonds_6.info()"
   ]
  },
  {
   "cell_type": "code",
   "execution_count": 137,
   "id": "990adb46",
   "metadata": {},
   "outputs": [],
   "source": [
    "diamonds_6.to_csv('./data/diamonds_6.csv', index=False)"
   ]
  },
  {
   "cell_type": "markdown",
   "id": "835244f1",
   "metadata": {},
   "source": [
    "# Opción 7\n",
    "- Eliminamos las filas de 0\n",
    "- Eliminamos columna de city\n",
    "- Label enconding sobre cut, color y clarity\n",
    "\n",
    "- Resultado\n",
    "diamonds_07"
   ]
  },
  {
   "cell_type": "code",
   "execution_count": 100,
   "id": "4c249676",
   "metadata": {},
   "outputs": [],
   "source": [
    "diamonds_7 = diamonds.copy()"
   ]
  },
  {
   "cell_type": "code",
   "execution_count": 101,
   "id": "c6f44aa8",
   "metadata": {},
   "outputs": [
    {
     "name": "stdout",
     "output_type": "stream",
     "text": [
      "<class 'pandas.core.frame.DataFrame'>\n",
      "RangeIndex: 40455 entries, 0 to 40454\n",
      "Data columns (total 11 columns):\n",
      " #   Column   Non-Null Count  Dtype  \n",
      "---  ------   --------------  -----  \n",
      " 0   price    40455 non-null  int64  \n",
      " 1   carat    40455 non-null  float64\n",
      " 2   city     40455 non-null  object \n",
      " 3   depth    40455 non-null  float64\n",
      " 4   table    40455 non-null  float64\n",
      " 5   x        40455 non-null  float64\n",
      " 6   y        40455 non-null  float64\n",
      " 7   z        40455 non-null  float64\n",
      " 8   cut      40455 non-null  object \n",
      " 9   color    40455 non-null  object \n",
      " 10  clarity  40455 non-null  object \n",
      "dtypes: float64(6), int64(1), object(4)\n",
      "memory usage: 3.4+ MB\n"
     ]
    }
   ],
   "source": [
    "diamonds_7.info()"
   ]
  },
  {
   "cell_type": "code",
   "execution_count": 140,
   "id": "a0eb2a78",
   "metadata": {},
   "outputs": [],
   "source": [
    "diamonds_7.drop(diamonds_7[(diamonds_7['x'] == 0) | (diamonds_7['y'] == 0) | (diamonds_7['z'] == 0)].index, inplace=True)"
   ]
  },
  {
   "cell_type": "code",
   "execution_count": 141,
   "id": "72b14c2b",
   "metadata": {},
   "outputs": [
    {
     "name": "stdout",
     "output_type": "stream",
     "text": [
      "<class 'pandas.core.frame.DataFrame'>\n",
      "Index: 40439 entries, 0 to 40454\n",
      "Data columns (total 11 columns):\n",
      " #   Column   Non-Null Count  Dtype  \n",
      "---  ------   --------------  -----  \n",
      " 0   price    40439 non-null  int64  \n",
      " 1   carat    40439 non-null  float64\n",
      " 2   city     40439 non-null  object \n",
      " 3   depth    40439 non-null  float64\n",
      " 4   table    40439 non-null  float64\n",
      " 5   x        40439 non-null  float64\n",
      " 6   y        40439 non-null  float64\n",
      " 7   z        40439 non-null  float64\n",
      " 8   cut      40439 non-null  object \n",
      " 9   color    40439 non-null  object \n",
      " 10  clarity  40439 non-null  object \n",
      "dtypes: float64(6), int64(1), object(4)\n",
      "memory usage: 3.7+ MB\n"
     ]
    }
   ],
   "source": [
    "diamonds_7.info()"
   ]
  },
  {
   "cell_type": "code",
   "execution_count": 142,
   "id": "ee2c3c57",
   "metadata": {},
   "outputs": [],
   "source": [
    "diamonds_7.drop('city', axis=1, inplace=True)"
   ]
  },
  {
   "cell_type": "code",
   "execution_count": 143,
   "id": "2333a328",
   "metadata": {},
   "outputs": [],
   "source": [
    "diamonds_7['cut'] = diamonds_7['cut'].map(cut_map)"
   ]
  },
  {
   "cell_type": "code",
   "execution_count": 144,
   "id": "1f191f7a",
   "metadata": {},
   "outputs": [],
   "source": [
    "diamonds_7['clarity'] = diamonds_7['clarity'].map(clarity_map)"
   ]
  },
  {
   "cell_type": "code",
   "execution_count": 145,
   "id": "10f193bb",
   "metadata": {},
   "outputs": [],
   "source": [
    "diamonds_7['color'] = diamonds_7['color'].map(color_map)"
   ]
  },
  {
   "cell_type": "code",
   "execution_count": 146,
   "id": "a57c67c3",
   "metadata": {},
   "outputs": [
    {
     "name": "stdout",
     "output_type": "stream",
     "text": [
      "<class 'pandas.core.frame.DataFrame'>\n",
      "Index: 40439 entries, 0 to 40454\n",
      "Data columns (total 10 columns):\n",
      " #   Column   Non-Null Count  Dtype  \n",
      "---  ------   --------------  -----  \n",
      " 0   price    40439 non-null  int64  \n",
      " 1   carat    40439 non-null  float64\n",
      " 2   depth    40439 non-null  float64\n",
      " 3   table    40439 non-null  float64\n",
      " 4   x        40439 non-null  float64\n",
      " 5   y        40439 non-null  float64\n",
      " 6   z        40439 non-null  float64\n",
      " 7   cut      40439 non-null  int64  \n",
      " 8   color    40439 non-null  int64  \n",
      " 9   clarity  40439 non-null  int64  \n",
      "dtypes: float64(6), int64(4)\n",
      "memory usage: 3.4 MB\n"
     ]
    }
   ],
   "source": [
    "diamonds_7.info()"
   ]
  },
  {
   "cell_type": "code",
   "execution_count": 147,
   "id": "acb74a4b",
   "metadata": {},
   "outputs": [],
   "source": [
    "diamonds_7.to_csv('./data/diamonds_7.csv', index=False)"
   ]
  },
  {
   "cell_type": "markdown",
   "id": "1732e0ff",
   "metadata": {},
   "source": [
    "# Opción 8\n",
    "- Eliminamos las filas de 0\n",
    "- Eliminamos columna depth\n",
    "- Nueva columna de size\n",
    "- Eliminamos columnas x y z \n",
    "- Reducimos la dimensionalidad de city por continent\n",
    "- One hot enconding\n",
    "\n",
    "- Resultado\n",
    "diamonds_03"
   ]
  },
  {
   "cell_type": "code",
   "execution_count": 68,
   "id": "bf864e16",
   "metadata": {},
   "outputs": [],
   "source": [
    "diamonds_8 = diamonds.copy()"
   ]
  },
  {
   "cell_type": "code",
   "execution_count": 71,
   "id": "602d8acf",
   "metadata": {},
   "outputs": [],
   "source": [
    "diamonds_8[\"size\"] = diamonds_8[\"x\"] * diamonds_8[\"y\"] * diamonds_8[\"z\"]"
   ]
  },
  {
   "cell_type": "code",
   "execution_count": 69,
   "id": "34caff7c",
   "metadata": {},
   "outputs": [],
   "source": [
    "diamonds_8.drop(diamonds_8[(diamonds_8['x'] == 0) | (diamonds_8['y'] == 0) | (diamonds_8['z'] == 0)].index, inplace=True)"
   ]
  },
  {
   "cell_type": "code",
   "execution_count": 72,
   "id": "972f53b4",
   "metadata": {},
   "outputs": [],
   "source": [
    "diamonds_8 = diamonds_8.drop('x', axis=1).drop('y', axis=1).drop('z', axis=1)"
   ]
  },
  {
   "cell_type": "code",
   "execution_count": 70,
   "id": "09fc899c",
   "metadata": {},
   "outputs": [],
   "source": [
    "diamonds_8.drop('depth', axis=1, inplace=True)"
   ]
  },
  {
   "cell_type": "code",
   "execution_count": 73,
   "id": "01fdd6fe",
   "metadata": {},
   "outputs": [],
   "source": [
    "diamonds_8['continent'] = diamonds_8['city'].map(city_map)"
   ]
  },
  {
   "cell_type": "code",
   "execution_count": 76,
   "id": "00e1c648",
   "metadata": {},
   "outputs": [],
   "source": [
    "diamonds_8 = pd.get_dummies(diamonds_8, drop_first=True, dtype=float)"
   ]
  },
  {
   "cell_type": "code",
   "execution_count": 77,
   "id": "c979afa0",
   "metadata": {},
   "outputs": [
    {
     "name": "stdout",
     "output_type": "stream",
     "text": [
      "<class 'pandas.core.frame.DataFrame'>\n",
      "Index: 40439 entries, 0 to 40454\n",
      "Data columns (total 36 columns):\n",
      " #   Column              Non-Null Count  Dtype  \n",
      "---  ------              --------------  -----  \n",
      " 0   price               40439 non-null  int64  \n",
      " 1   carat               40439 non-null  float64\n",
      " 2   table               40439 non-null  float64\n",
      " 3   size                40439 non-null  float64\n",
      " 4   city_Antwerp        40439 non-null  float64\n",
      " 5   city_Dubai          40439 non-null  float64\n",
      " 6   city_Kimberly       40439 non-null  float64\n",
      " 7   city_Las Vegas      40439 non-null  float64\n",
      " 8   city_London         40439 non-null  float64\n",
      " 9   city_Luxembourg     40439 non-null  float64\n",
      " 10  city_Madrid         40439 non-null  float64\n",
      " 11  city_New York City  40439 non-null  float64\n",
      " 12  city_Paris          40439 non-null  float64\n",
      " 13  city_Surat          40439 non-null  float64\n",
      " 14  city_Tel Aviv       40439 non-null  float64\n",
      " 15  city_Zurich         40439 non-null  float64\n",
      " 16  cut_Good            40439 non-null  float64\n",
      " 17  cut_Ideal           40439 non-null  float64\n",
      " 18  cut_Premium         40439 non-null  float64\n",
      " 19  cut_Very Good       40439 non-null  float64\n",
      " 20  color_E             40439 non-null  float64\n",
      " 21  color_F             40439 non-null  float64\n",
      " 22  color_G             40439 non-null  float64\n",
      " 23  color_H             40439 non-null  float64\n",
      " 24  color_I             40439 non-null  float64\n",
      " 25  color_J             40439 non-null  float64\n",
      " 26  clarity_IF          40439 non-null  float64\n",
      " 27  clarity_SI1         40439 non-null  float64\n",
      " 28  clarity_SI2         40439 non-null  float64\n",
      " 29  clarity_VS1         40439 non-null  float64\n",
      " 30  clarity_VS2         40439 non-null  float64\n",
      " 31  clarity_VVS1        40439 non-null  float64\n",
      " 32  clarity_VVS2        40439 non-null  float64\n",
      " 33  continent_America   40439 non-null  float64\n",
      " 34  continent_Asia      40439 non-null  float64\n",
      " 35  continent_Europe    40439 non-null  float64\n",
      "dtypes: float64(35), int64(1)\n",
      "memory usage: 11.4 MB\n"
     ]
    }
   ],
   "source": [
    "diamonds_8.info()"
   ]
  },
  {
   "cell_type": "code",
   "execution_count": 78,
   "id": "6bb78626",
   "metadata": {},
   "outputs": [],
   "source": [
    "diamonds_8.to_csv('./data/diamonds_8.csv', index=False)"
   ]
  },
  {
   "cell_type": "markdown",
   "id": "d74a1a47",
   "metadata": {},
   "source": [
    "# Opción 9\n",
    "- Reemplazamos los valores por la media\n",
    "- Eliminamos columna de city\n",
    "- Label enconding sobre cut, color y clarity con los segundos valores\n",
    "\n",
    "- Resultado\n",
    "diamonds_09"
   ]
  },
  {
   "cell_type": "code",
   "execution_count": 102,
   "id": "1b09a0b9",
   "metadata": {},
   "outputs": [],
   "source": [
    "diamonds_9 = diamonds.copy()"
   ]
  },
  {
   "cell_type": "code",
   "execution_count": 103,
   "id": "508b2fe3",
   "metadata": {},
   "outputs": [],
   "source": [
    "diamonds_9['x'] = diamonds_9['x'].replace(0, media_x)\n",
    "diamonds_9['y'] = diamonds_9['y'].replace(0, media_y)\n",
    "diamonds_9['z'] = diamonds_9['z'].replace(0, media_z)"
   ]
  },
  {
   "cell_type": "code",
   "execution_count": 104,
   "id": "56612d60",
   "metadata": {},
   "outputs": [],
   "source": [
    "diamonds_9.drop('city', axis=1, inplace=True)"
   ]
  },
  {
   "cell_type": "code",
   "execution_count": 105,
   "id": "0551313a",
   "metadata": {},
   "outputs": [],
   "source": [
    "diamonds_9['cut'] = diamonds_9['cut'].map(cut_map_2)"
   ]
  },
  {
   "cell_type": "code",
   "execution_count": 106,
   "id": "4326710d",
   "metadata": {},
   "outputs": [],
   "source": [
    "diamonds_9['clarity'] = diamonds_9['clarity'].map(clarity_map)"
   ]
  },
  {
   "cell_type": "code",
   "execution_count": 107,
   "id": "01336a3a",
   "metadata": {},
   "outputs": [],
   "source": [
    "diamonds_9['color'] = diamonds_9['color'].map(color_map_2)"
   ]
  },
  {
   "cell_type": "code",
   "execution_count": 109,
   "id": "8d325922",
   "metadata": {},
   "outputs": [
    {
     "name": "stdout",
     "output_type": "stream",
     "text": [
      "<class 'pandas.core.frame.DataFrame'>\n",
      "RangeIndex: 40455 entries, 0 to 40454\n",
      "Data columns (total 10 columns):\n",
      " #   Column   Non-Null Count  Dtype  \n",
      "---  ------   --------------  -----  \n",
      " 0   price    40455 non-null  int64  \n",
      " 1   carat    40455 non-null  float64\n",
      " 2   depth    40455 non-null  float64\n",
      " 3   table    40455 non-null  float64\n",
      " 4   x        40455 non-null  float64\n",
      " 5   y        40455 non-null  float64\n",
      " 6   z        40455 non-null  float64\n",
      " 7   cut      40455 non-null  int64  \n",
      " 8   color    40455 non-null  int64  \n",
      " 9   clarity  40455 non-null  int64  \n",
      "dtypes: float64(6), int64(4)\n",
      "memory usage: 3.1 MB\n"
     ]
    }
   ],
   "source": [
    "diamonds_9.info()"
   ]
  },
  {
   "cell_type": "code",
   "execution_count": 110,
   "id": "48af6d4f",
   "metadata": {},
   "outputs": [],
   "source": [
    "diamonds_9.to_csv('./data/diamonds_9.csv', index=False)"
   ]
  }
 ],
 "metadata": {
  "kernelspec": {
   "display_name": "Sklearn_env",
   "language": "python",
   "name": "sklearn_env"
  },
  "language_info": {
   "codemirror_mode": {
    "name": "ipython",
    "version": 3
   },
   "file_extension": ".py",
   "mimetype": "text/x-python",
   "name": "python",
   "nbconvert_exporter": "python",
   "pygments_lexer": "ipython3",
   "version": "3.10.13"
  }
 },
 "nbformat": 4,
 "nbformat_minor": 5
}

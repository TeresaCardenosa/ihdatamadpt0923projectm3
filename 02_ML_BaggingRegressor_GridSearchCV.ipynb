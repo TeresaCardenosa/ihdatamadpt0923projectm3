{
 "cells": [
  {
   "cell_type": "code",
   "execution_count": 13,
   "id": "6440584a",
   "metadata": {},
   "outputs": [],
   "source": [
    "import numpy as np\n",
    "import pandas as pd\n",
    "\n",
    "import seaborn as sns\n",
    "import matplotlib.pyplot as plt\n",
    "\n",
    "from sklearn.preprocessing import RobustScaler\n",
    "\n",
    "from sklearn.model_selection import train_test_split\n",
    "from sklearn.ensemble import BaggingRegressor\n",
    "from sklearn.tree import DecisionTreeRegressor\n",
    "from sklearn.ensemble import RandomForestRegressor\n",
    "\n",
    "from sklearn.metrics import mean_squared_error\n",
    "\n",
    "from sklearn.model_selection import GridSearchCV\n"
   ]
  },
  {
   "cell_type": "code",
   "execution_count": 16,
   "id": "44eff25d",
   "metadata": {},
   "outputs": [],
   "source": [
    "diamonds = pd.read_csv('./data/diamonds.csv')"
   ]
  },
  {
   "cell_type": "code",
   "execution_count": 17,
   "id": "d128ccb9",
   "metadata": {},
   "outputs": [],
   "source": [
    "diamonds[\"size\"] = diamonds[\"x\"] * diamonds[\"y\"] * diamonds[\"z\"]"
   ]
  },
  {
   "cell_type": "code",
   "execution_count": 18,
   "id": "3884c5cb",
   "metadata": {},
   "outputs": [],
   "source": [
    "diamonds = diamonds.drop('x', axis=1).drop('y', axis=1).drop('z', axis=1)"
   ]
  },
  {
   "cell_type": "code",
   "execution_count": 19,
   "id": "f66d0cdc",
   "metadata": {},
   "outputs": [],
   "source": [
    "diamonds['cut'] = diamonds['cut'].map({'Fair': 1, \n",
    "                                       'Good': 2, \n",
    "                                       'Very Good': 3, \n",
    "                                       'Premium': 4, \n",
    "                                       'Ideal': 5})"
   ]
  },
  {
   "cell_type": "code",
   "execution_count": 20,
   "id": "1ea2919b",
   "metadata": {},
   "outputs": [],
   "source": [
    "diamonds['color'] = diamonds['color'].map({'J': 1,\n",
    "                                          'I': 2,\n",
    "                                          'H': 3, \n",
    "                                          'G': 4,\n",
    "                                          'F': 5, \n",
    "                                          'E': 6,\n",
    "                                          'D': 7})"
   ]
  },
  {
   "cell_type": "code",
   "execution_count": 21,
   "id": "fd9cdd5a",
   "metadata": {},
   "outputs": [],
   "source": [
    "diamonds['continent'] = diamonds['city'].map({'Dubai': 'Asia',\n",
    "                                                'Kimberly': 'Africa',\n",
    "                                                'Las Vegas': 'America',\n",
    "                                                'Tel Aviv': 'Asia',\n",
    "                                                'Amsterdam': 'Europe',\n",
    "                                                'Zurich': 'Europe',\n",
    "                                                'Antwerp': 'Europe',\n",
    "                                                'Madrid': 'Europe',\n",
    "                                                'Paris': 'Europe',\n",
    "                                                'Surat': 'Asia',\n",
    "                                                'Luxembourg': 'Europe',\n",
    "                                                'London': 'Europe',\n",
    "                                                'New York City': 'America'})"
   ]
  },
  {
   "cell_type": "code",
   "execution_count": 22,
   "id": "b35d3ace",
   "metadata": {},
   "outputs": [],
   "source": [
    "diamonds = diamonds.drop('city', axis=1)"
   ]
  },
  {
   "cell_type": "code",
   "execution_count": 23,
   "id": "277ef12d",
   "metadata": {},
   "outputs": [],
   "source": [
    "diamonds['continent'] = diamonds['continent'].map({'Africa': 1,\n",
    "                                          'Europe': 2,\n",
    "                                          'America': 3, \n",
    "                                          'Asia': 4})"
   ]
  },
  {
   "cell_type": "code",
   "execution_count": 24,
   "id": "a9a724ee",
   "metadata": {},
   "outputs": [],
   "source": [
    "diamonds['clarity'] = diamonds['clarity'].map({'I1': 1,\n",
    "                                          'SI1': 2,\n",
    "                                          'SI2': 3, \n",
    "                                          'VS1': 4,\n",
    "                                          'VS2': 5, \n",
    "                                          'VVS1': 6,\n",
    "                                          'VVS2': 7,\n",
    "                                                'IF': 8})"
   ]
  },
  {
   "cell_type": "code",
   "execution_count": 25,
   "id": "3dbbd103",
   "metadata": {},
   "outputs": [
    {
     "name": "stdout",
     "output_type": "stream",
     "text": [
      "<class 'pandas.core.frame.DataFrame'>\n",
      "RangeIndex: 40455 entries, 0 to 40454\n",
      "Data columns (total 9 columns):\n",
      " #   Column     Non-Null Count  Dtype  \n",
      "---  ------     --------------  -----  \n",
      " 0   price      40455 non-null  int64  \n",
      " 1   carat      40455 non-null  float64\n",
      " 2   depth      40455 non-null  float64\n",
      " 3   table      40455 non-null  float64\n",
      " 4   cut        40455 non-null  int64  \n",
      " 5   color      40455 non-null  int64  \n",
      " 6   clarity    40455 non-null  int64  \n",
      " 7   size       40455 non-null  float64\n",
      " 8   continent  40455 non-null  int64  \n",
      "dtypes: float64(4), int64(5)\n",
      "memory usage: 2.8 MB\n"
     ]
    }
   ],
   "source": [
    "diamonds.info()"
   ]
  },
  {
   "cell_type": "code",
   "execution_count": null,
   "id": "5df95159",
   "metadata": {},
   "outputs": [],
   "source": []
  },
  {
   "cell_type": "code",
   "execution_count": 26,
   "id": "0c08c063",
   "metadata": {},
   "outputs": [],
   "source": [
    "X = diamonds.drop('price', axis=1)\n",
    "y = diamonds['price']"
   ]
  },
  {
   "cell_type": "code",
   "execution_count": 27,
   "id": "7307f3ce",
   "metadata": {},
   "outputs": [],
   "source": [
    "X_train, X_test, y_train, y_test = train_test_split(X, y, test_size=0.2, random_state=42)"
   ]
  },
  {
   "cell_type": "code",
   "execution_count": null,
   "id": "6506a272",
   "metadata": {},
   "outputs": [],
   "source": []
  },
  {
   "cell_type": "code",
   "execution_count": null,
   "id": "eb0a9f38",
   "metadata": {},
   "outputs": [],
   "source": []
  },
  {
   "cell_type": "code",
   "execution_count": null,
   "id": "ed68793d",
   "metadata": {},
   "outputs": [],
   "source": [
    "Invalid parameter 'base_estimator' for estimator BaggingRegressor(). Valid parameters are: ['bootstrap', 'bootstrap_features', 'estimator', 'max_features', 'max_samples', 'n_estimators', 'n_jobs', 'oob_score', 'random_state', 'verbose', 'warm_start']."
   ]
  },
  {
   "cell_type": "code",
   "execution_count": 30,
   "id": "23fd5806",
   "metadata": {},
   "outputs": [],
   "source": [
    "param_grid = {\n",
    "    'estimator': [DecisionTreeRegressor(), RandomForestRegressor()],\n",
    "    'n_estimators': [100, 300, 500],\n",
    "    'max_samples': [0.8, 1.0, 1.5],\n",
    "    'max_features': [0.8, 1.0, 1.5],\n",
    "    'bootstrap': [True, False],\n",
    "    'bootstrap_features': [True, False],\n",
    "    'oob_score': [True, False],\n",
    "}\n"
   ]
  },
  {
   "cell_type": "code",
   "execution_count": 31,
   "id": "8791d490",
   "metadata": {},
   "outputs": [],
   "source": [
    "model = BaggingRegressor()"
   ]
  },
  {
   "cell_type": "code",
   "execution_count": 32,
   "id": "3f245101",
   "metadata": {},
   "outputs": [
    {
     "data": {
      "text/plain": [
       "{'bootstrap': True,\n",
       " 'bootstrap_features': False,\n",
       " 'estimator': None,\n",
       " 'max_features': 1.0,\n",
       " 'max_samples': 1.0,\n",
       " 'n_estimators': 10,\n",
       " 'n_jobs': None,\n",
       " 'oob_score': False,\n",
       " 'random_state': None,\n",
       " 'verbose': 0,\n",
       " 'warm_start': False}"
      ]
     },
     "execution_count": 32,
     "metadata": {},
     "output_type": "execute_result"
    }
   ],
   "source": [
    "model.get_params()"
   ]
  },
  {
   "cell_type": "code",
   "execution_count": 33,
   "id": "c30878a5",
   "metadata": {},
   "outputs": [],
   "source": [
    "grid_search = GridSearchCV(estimator=model, \n",
    "                           param_grid=param_grid, \n",
    "                           scoring='neg_mean_squared_error', \n",
    "                           cv=5,\n",
    "                           verbose=3,\n",
    "                           n_jobs=-1)\n"
   ]
  },
  {
   "cell_type": "code",
   "execution_count": null,
   "id": "d2311b9f",
   "metadata": {},
   "outputs": [
    {
     "name": "stdout",
     "output_type": "stream",
     "text": [
      "Fitting 5 folds for each of 432 candidates, totalling 2160 fits\n"
     ]
    }
   ],
   "source": [
    "grid_search.fit(X_train,y_train)    \n",
    "\n",
    "print('\\n')\n",
    "print('Best hyperparameters: ', grid_search.best_params_, '\\n')\n",
    "print('Best score: ', -grid_search.best_score_, '\\n')"
   ]
  },
  {
   "cell_type": "code",
   "execution_count": null,
   "id": "4fb5f216",
   "metadata": {},
   "outputs": [],
   "source": []
  }
 ],
 "metadata": {
  "kernelspec": {
   "display_name": "Sklearn_env",
   "language": "python",
   "name": "sklearn_env"
  },
  "language_info": {
   "codemirror_mode": {
    "name": "ipython",
    "version": 3
   },
   "file_extension": ".py",
   "mimetype": "text/x-python",
   "name": "python",
   "nbconvert_exporter": "python",
   "pygments_lexer": "ipython3",
   "version": "3.10.13"
  }
 },
 "nbformat": 4,
 "nbformat_minor": 5
}
